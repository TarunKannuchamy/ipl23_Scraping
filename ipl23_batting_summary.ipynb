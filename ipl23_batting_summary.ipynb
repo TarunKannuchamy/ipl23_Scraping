{
  "nbformat": 4,
  "nbformat_minor": 0,
  "metadata": {
    "colab": {
      "provenance": [],
      "authorship_tag": "ABX9TyNMAzpOgZbaC1pC/2orPENh",
      "include_colab_link": true
    },
    "kernelspec": {
      "name": "python3",
      "display_name": "Python 3"
    },
    "language_info": {
      "name": "python"
    }
  },
  "cells": [
    {
      "cell_type": "markdown",
      "metadata": {
        "id": "view-in-github",
        "colab_type": "text"
      },
      "source": [
        "<a href=\"https://colab.research.google.com/github/TarunKannuchamy/ipl23_Scraping/blob/main/ipl23_batting_summary.ipynb\" target=\"_parent\"><img src=\"https://colab.research.google.com/assets/colab-badge.svg\" alt=\"Open In Colab\"/></a>"
      ]
    },
    {
      "cell_type": "markdown",
      "source": [
        "# Initialising"
      ],
      "metadata": {
        "id": "4H2opzWmOfzV"
      }
    },
    {
      "cell_type": "code",
      "execution_count": null,
      "metadata": {
        "colab": {
          "base_uri": "https://localhost:8080/"
        },
        "id": "iQ17a4Wl6uFt",
        "outputId": "8659232a-8220-4849-eaa6-ce4b515f4097"
      },
      "outputs": [
        {
          "output_type": "stream",
          "name": "stdout",
          "text": [
            "Looking in indexes: https://pypi.org/simple, https://us-python.pkg.dev/colab-wheels/public/simple/\n",
            "Requirement already satisfied: virtualenv in /usr/local/lib/python3.10/dist-packages (20.23.0)\n",
            "Requirement already satisfied: distlib<1,>=0.3.6 in /usr/local/lib/python3.10/dist-packages (from virtualenv) (0.3.6)\n",
            "Requirement already satisfied: filelock<4,>=3.11 in /usr/local/lib/python3.10/dist-packages (from virtualenv) (3.12.0)\n",
            "Requirement already satisfied: platformdirs<4,>=3.2 in /usr/local/lib/python3.10/dist-packages (from virtualenv) (3.3.0)\n",
            "created virtual environment CPython3.10.11.final.0-64 in 275ms\n",
            "  creator CPython3Posix(dest=/content/myenv, clear=False, no_vcs_ignore=False, global=False)\n",
            "  seeder FromAppData(download=False, pip=bundle, setuptools=bundle, wheel=bundle, via=copy, app_data_dir=/root/.local/share/virtualenv)\n",
            "    added seed packages: pip==23.1.2, setuptools==67.7.2, wheel==0.40.0\n",
            "  activators BashActivator,CShellActivator,FishActivator,NushellActivator,PowerShellActivator,PythonActivator\n",
            "/bin/bash: busoft/bin/activate: No such file or directory\n"
          ]
        }
      ],
      "source": [
        "!pip install virtualenv\n",
        "!python -m virtualenv myenv\n",
        "!source busoft/bin/activate"
      ]
    },
    {
      "cell_type": "code",
      "source": [
        "!pip install numpy\n",
        "!pip install pandas"
      ],
      "metadata": {
        "colab": {
          "base_uri": "https://localhost:8080/"
        },
        "id": "8vewzDnC61w8",
        "outputId": "4a6f3b7b-1d53-468d-8f89-a8869555cdf9"
      },
      "execution_count": null,
      "outputs": [
        {
          "output_type": "stream",
          "name": "stdout",
          "text": [
            "Looking in indexes: https://pypi.org/simple, https://us-python.pkg.dev/colab-wheels/public/simple/\n",
            "Requirement already satisfied: numpy in /usr/local/lib/python3.10/dist-packages (1.22.4)\n",
            "Looking in indexes: https://pypi.org/simple, https://us-python.pkg.dev/colab-wheels/public/simple/\n",
            "Requirement already satisfied: pandas in /usr/local/lib/python3.10/dist-packages (1.5.3)\n",
            "Requirement already satisfied: python-dateutil>=2.8.1 in /usr/local/lib/python3.10/dist-packages (from pandas) (2.8.2)\n",
            "Requirement already satisfied: pytz>=2020.1 in /usr/local/lib/python3.10/dist-packages (from pandas) (2022.7.1)\n",
            "Requirement already satisfied: numpy>=1.21.0 in /usr/local/lib/python3.10/dist-packages (from pandas) (1.22.4)\n",
            "Requirement already satisfied: six>=1.5 in /usr/local/lib/python3.10/dist-packages (from python-dateutil>=2.8.1->pandas) (1.16.0)\n"
          ]
        }
      ]
    },
    {
      "cell_type": "code",
      "source": [
        "!pip install beautifulsoup4\n"
      ],
      "metadata": {
        "colab": {
          "base_uri": "https://localhost:8080/"
        },
        "id": "TMXy0_M-7p_a",
        "outputId": "5a62b491-064c-4455-e3af-e9df54fd101f"
      },
      "execution_count": null,
      "outputs": [
        {
          "output_type": "stream",
          "name": "stdout",
          "text": [
            "Looking in indexes: https://pypi.org/simple, https://us-python.pkg.dev/colab-wheels/public/simple/\n",
            "Requirement already satisfied: beautifulsoup4 in /usr/local/lib/python3.10/dist-packages (4.11.2)\n",
            "Requirement already satisfied: soupsieve>1.2 in /usr/local/lib/python3.10/dist-packages (from beautifulsoup4) (2.4.1)\n"
          ]
        }
      ]
    },
    {
      "cell_type": "code",
      "source": [
        "import pandas as pd\n",
        "import re"
      ],
      "metadata": {
        "id": "hTaj9GZyb6_H"
      },
      "execution_count": null,
      "outputs": []
    },
    {
      "cell_type": "markdown",
      "source": [
        "# URL"
      ],
      "metadata": {
        "id": "HiPMILfpPAOC"
      }
    },
    {
      "cell_type": "code",
      "source": [
        "import requests\n",
        "from bs4 import BeautifulSoup\n",
        "\n",
        "url2 = 'https://www.espncricinfo.com/series/indian-premier-league-2023-1345038/match-schedule-fixtures-and-results'\n",
        "response2 = requests.get(url2)\n",
        "soup = BeautifulSoup(response2.content, 'html.parser')\n",
        "link_classes = soup.find_all('div', class_='ds-grow ds-px-4 ds-border-r ds-border-line-default-translucent')\n",
        "urls = []\n",
        "for link_class in link_classes:\n",
        "  a_tags = link_class.find_all('a', class_=\"ds-no-tap-higlight\")\n",
        "  links = [f\"https://www.espncricinfo.com{link.get('href')}\" for link in a_tags if 'href' in link.attrs]\n",
        "  urls.extend(links)\n",
        "\n",
        "print(urls)\n"
      ],
      "metadata": {
        "colab": {
          "base_uri": "https://localhost:8080/"
        },
        "id": "N6OwDSsB-ZJL",
        "outputId": "9457a92a-b7b4-4543-ae66-5a953fb80c16"
      },
      "execution_count": null,
      "outputs": [
        {
          "output_type": "stream",
          "name": "stdout",
          "text": [
            "['https://www.espncricinfo.com/series/indian-premier-league-2023-1345038/gujarat-titans-vs-chennai-super-kings-1st-match-1359475/full-scorecard', 'https://www.espncricinfo.com/series/indian-premier-league-2023-1345038/punjab-kings-vs-kolkata-knight-riders-2nd-match-1359476/full-scorecard', 'https://www.espncricinfo.com/series/indian-premier-league-2023-1345038/lucknow-super-giants-vs-delhi-capitals-3rd-match-1359477/full-scorecard', 'https://www.espncricinfo.com/series/indian-premier-league-2023-1345038/sunrisers-hyderabad-vs-rajasthan-royals-4th-match-1359478/full-scorecard', 'https://www.espncricinfo.com/series/indian-premier-league-2023-1345038/royal-challengers-bangalore-vs-mumbai-indians-5th-match-1359479/full-scorecard', 'https://www.espncricinfo.com/series/indian-premier-league-2023-1345038/chennai-super-kings-vs-lucknow-super-giants-6th-match-1359480/full-scorecard', 'https://www.espncricinfo.com/series/indian-premier-league-2023-1345038/delhi-capitals-vs-gujarat-titans-7th-match-1359481/full-scorecard', 'https://www.espncricinfo.com/series/indian-premier-league-2023-1345038/rajasthan-royals-vs-punjab-kings-8th-match-1359482/full-scorecard', 'https://www.espncricinfo.com/series/indian-premier-league-2023-1345038/kolkata-knight-riders-vs-royal-challengers-bangalore-9th-match-1359483/full-scorecard', 'https://www.espncricinfo.com/series/indian-premier-league-2023-1345038/lucknow-super-giants-vs-sunrisers-hyderabad-10th-match-1359484/full-scorecard', 'https://www.espncricinfo.com/series/indian-premier-league-2023-1345038/rajasthan-royals-vs-delhi-capitals-11th-match-1359485/full-scorecard', 'https://www.espncricinfo.com/series/indian-premier-league-2023-1345038/mumbai-indians-vs-chennai-super-kings-12th-match-1359486/full-scorecard', 'https://www.espncricinfo.com/series/indian-premier-league-2023-1345038/gujarat-titans-vs-kolkata-knight-riders-13th-match-1359487/full-scorecard', 'https://www.espncricinfo.com/series/indian-premier-league-2023-1345038/sunrisers-hyderabad-vs-punjab-kings-14th-match-1359488/full-scorecard', 'https://www.espncricinfo.com/series/indian-premier-league-2023-1345038/royal-challengers-bangalore-vs-lucknow-super-giants-15th-match-1359489/full-scorecard', 'https://www.espncricinfo.com/series/indian-premier-league-2023-1345038/delhi-capitals-vs-mumbai-indians-16th-match-1359490/full-scorecard', 'https://www.espncricinfo.com/series/indian-premier-league-2023-1345038/chennai-super-kings-vs-rajasthan-royals-17th-match-1359491/full-scorecard', 'https://www.espncricinfo.com/series/indian-premier-league-2023-1345038/punjab-kings-vs-gujarat-titans-18th-match-1359492/full-scorecard', 'https://www.espncricinfo.com/series/indian-premier-league-2023-1345038/kolkata-knight-riders-vs-sunrisers-hyderabad-19th-match-1359493/full-scorecard', 'https://www.espncricinfo.com/series/indian-premier-league-2023-1345038/royal-challengers-bangalore-vs-delhi-capitals-20th-match-1359494/full-scorecard', 'https://www.espncricinfo.com/series/indian-premier-league-2023-1345038/lucknow-super-giants-vs-punjab-kings-21st-match-1359495/full-scorecard', 'https://www.espncricinfo.com/series/indian-premier-league-2023-1345038/mumbai-indians-vs-kolkata-knight-riders-22nd-match-1359496/full-scorecard', 'https://www.espncricinfo.com/series/indian-premier-league-2023-1345038/gujarat-titans-vs-rajasthan-royals-23rd-match-1359497/full-scorecard', 'https://www.espncricinfo.com/series/indian-premier-league-2023-1345038/royal-challengers-bangalore-vs-chennai-super-kings-24th-match-1359498/full-scorecard', 'https://www.espncricinfo.com/series/indian-premier-league-2023-1345038/sunrisers-hyderabad-vs-mumbai-indians-25th-match-1359499/full-scorecard', 'https://www.espncricinfo.com/series/indian-premier-league-2023-1345038/rajasthan-royals-vs-lucknow-super-giants-26th-match-1359500/full-scorecard', 'https://www.espncricinfo.com/series/indian-premier-league-2023-1345038/punjab-kings-vs-royal-challengers-bangalore-27th-match-1359501/full-scorecard', 'https://www.espncricinfo.com/series/indian-premier-league-2023-1345038/delhi-capitals-vs-kolkata-knight-riders-28th-match-1359502/full-scorecard', 'https://www.espncricinfo.com/series/indian-premier-league-2023-1345038/chennai-super-kings-vs-sunrisers-hyderabad-29th-match-1359503/full-scorecard', 'https://www.espncricinfo.com/series/indian-premier-league-2023-1345038/lucknow-super-giants-vs-gujarat-titans-30th-match-1359504/full-scorecard', 'https://www.espncricinfo.com/series/indian-premier-league-2023-1345038/mumbai-indians-vs-punjab-kings-31st-match-1359505/full-scorecard', 'https://www.espncricinfo.com/series/indian-premier-league-2023-1345038/royal-challengers-bangalore-vs-rajasthan-royals-32nd-match-1359506/full-scorecard', 'https://www.espncricinfo.com/series/indian-premier-league-2023-1345038/kolkata-knight-riders-vs-chennai-super-kings-33rd-match-1359507/full-scorecard', 'https://www.espncricinfo.com/series/indian-premier-league-2023-1345038/sunrisers-hyderabad-vs-delhi-capitals-34th-match-1359508/full-scorecard', 'https://www.espncricinfo.com/series/indian-premier-league-2023-1345038/gujarat-titans-vs-mumbai-indians-35th-match-1359509/full-scorecard', 'https://www.espncricinfo.com/series/indian-premier-league-2023-1345038/royal-challengers-bangalore-vs-kolkata-knight-riders-36th-match-1359510/full-scorecard', 'https://www.espncricinfo.com/series/indian-premier-league-2023-1345038/rajasthan-royals-vs-chennai-super-kings-37th-match-1359511/full-scorecard', 'https://www.espncricinfo.com/series/indian-premier-league-2023-1345038/punjab-kings-vs-lucknow-super-giants-38th-match-1359512/full-scorecard', 'https://www.espncricinfo.com/series/indian-premier-league-2023-1345038/kolkata-knight-riders-vs-gujarat-titans-39th-match-1359513/full-scorecard', 'https://www.espncricinfo.com/series/indian-premier-league-2023-1345038/delhi-capitals-vs-sunrisers-hyderabad-40th-match-1359514/full-scorecard', 'https://www.espncricinfo.com/series/indian-premier-league-2023-1345038/chennai-super-kings-vs-punjab-kings-41st-match-1359515/full-scorecard', 'https://www.espncricinfo.com/series/indian-premier-league-2023-1345038/mumbai-indians-vs-rajasthan-royals-42nd-match-1359516/full-scorecard', 'https://www.espncricinfo.com/series/indian-premier-league-2023-1345038/lucknow-super-giants-vs-royal-challengers-bangalore-43rd-match-1359517/full-scorecard', 'https://www.espncricinfo.com/series/indian-premier-league-2023-1345038/gujarat-titans-vs-delhi-capitals-44th-match-1359518/full-scorecard', 'https://www.espncricinfo.com/series/indian-premier-league-2023-1345038/lucknow-super-giants-vs-chennai-super-kings-45th-match-1359519/full-scorecard', 'https://www.espncricinfo.com/series/indian-premier-league-2023-1345038/punjab-kings-vs-mumbai-indians-46th-match-1359520/full-scorecard', 'https://www.espncricinfo.com/series/indian-premier-league-2023-1345038/sunrisers-hyderabad-vs-kolkata-knight-riders-47th-match-1359521/full-scorecard', 'https://www.espncricinfo.com/series/indian-premier-league-2023-1345038/rajasthan-royals-vs-gujarat-titans-48th-match-1359522/full-scorecard', 'https://www.espncricinfo.com/series/indian-premier-league-2023-1345038/chennai-super-kings-vs-mumbai-indians-49th-match-1359523/full-scorecard', 'https://www.espncricinfo.com/series/indian-premier-league-2023-1345038/delhi-capitals-vs-royal-challengers-bangalore-50th-match-1359524/full-scorecard', 'https://www.espncricinfo.com/series/indian-premier-league-2023-1345038/gujarat-titans-vs-lucknow-super-giants-51st-match-1359525/full-scorecard', 'https://www.espncricinfo.com/series/indian-premier-league-2023-1345038/rajasthan-royals-vs-sunrisers-hyderabad-52nd-match-1359526/full-scorecard', 'https://www.espncricinfo.com/series/indian-premier-league-2023-1345038/kolkata-knight-riders-vs-punjab-kings-53rd-match-1359527/full-scorecard', 'https://www.espncricinfo.com/series/indian-premier-league-2023-1345038/mumbai-indians-vs-royal-challengers-bangalore-54th-match-1359528/full-scorecard', 'https://www.espncricinfo.com/series/indian-premier-league-2023-1345038/chennai-super-kings-vs-delhi-capitals-55th-match-1359529/full-scorecard', 'https://www.espncricinfo.com/series/indian-premier-league-2023-1345038/kolkata-knight-riders-vs-rajasthan-royals-56th-match-1359530/full-scorecard', 'https://www.espncricinfo.com/series/indian-premier-league-2023-1345038/mumbai-indians-vs-gujarat-titans-57th-match-1359531/full-scorecard', 'https://www.espncricinfo.com/series/indian-premier-league-2023-1345038/sunrisers-hyderabad-vs-lucknow-super-giants-58th-match-1359532/full-scorecard', 'https://www.espncricinfo.com/series/indian-premier-league-2023-1345038/delhi-capitals-vs-punjab-kings-59th-match-1359533/full-scorecard', 'https://www.espncricinfo.com/series/indian-premier-league-2023-1345038/rajasthan-royals-vs-royal-challengers-bangalore-60th-match-1359534/full-scorecard', 'https://www.espncricinfo.com/series/indian-premier-league-2023-1345038/chennai-super-kings-vs-kolkata-knight-riders-61st-match-1359535/full-scorecard', 'https://www.espncricinfo.com/series/indian-premier-league-2023-1345038/gujarat-titans-vs-sunrisers-hyderabad-62nd-match-1359536/full-scorecard', 'https://www.espncricinfo.com/series/indian-premier-league-2023-1345038/lucknow-super-giants-vs-mumbai-indians-63rd-match-1359537/full-scorecard', 'https://www.espncricinfo.com/series/indian-premier-league-2023-1345038/punjab-kings-vs-delhi-capitals-64th-match-1359538/full-scorecard', 'https://www.espncricinfo.com/series/indian-premier-league-2023-1345038/sunrisers-hyderabad-vs-royal-challengers-bangalore-65th-match-1359539/full-scorecard', 'https://www.espncricinfo.com/series/indian-premier-league-2023-1345038/punjab-kings-vs-rajasthan-royals-66th-match-1359540/full-scorecard', 'https://www.espncricinfo.com/series/indian-premier-league-2023-1345038/delhi-capitals-vs-chennai-super-kings-67th-match-1359541/full-scorecard', 'https://www.espncricinfo.com/series/indian-premier-league-2023-1345038/kolkata-knight-riders-vs-lucknow-super-giants-68th-match-1359542/full-scorecard', 'https://www.espncricinfo.com/series/indian-premier-league-2023-1345038/mumbai-indians-vs-sunrisers-hyderabad-69th-match-1359543/full-scorecard', 'https://www.espncricinfo.com/series/indian-premier-league-2023-1345038/royal-challengers-bangalore-vs-gujarat-titans-70th-match-1359544/full-scorecard', 'https://www.espncricinfo.com/series/indian-premier-league-2023-1345038/chennai-super-kings-vs-gujarat-titans-qualifier-1-1370350/full-scorecard', 'https://www.espncricinfo.com/series/indian-premier-league-2023-1345038/lucknow-super-giants-vs-mumbai-indians-eliminator-1370351/full-scorecard', 'https://www.espncricinfo.com/series/indian-premier-league-2023-1345038/gujarat-titans-vs-mumbai-indians-qualifier-2-1370352/full-scorecard', 'https://www.espncricinfo.com/series/indian-premier-league-2023-1345038/gujarat-titans-vs-chennai-super-kings-final-1370353/full-scorecard']\n"
          ]
        }
      ]
    },
    {
      "cell_type": "code",
      "source": [
        "link.get('href')"
      ],
      "metadata": {
        "id": "ArUmEzLzyQiR"
      },
      "execution_count": null,
      "outputs": []
    },
    {
      "cell_type": "markdown",
      "source": [
        "# Statistics\n"
      ],
      "metadata": {
        "id": "86CRzid7J0K6"
      }
    },
    {
      "cell_type": "code",
      "source": [
        "url = 'https://www.espncricinfo.com/series/indian-premier-league-2023-1345038/gujarat-titans-vs-chennai-super-kings-1st-match-1359475/full-scorecard'\n",
        "response = requests.get(url)\n",
        "soup = BeautifulSoup(response.content, 'html.parser')\n",
        "#Team - 1 Batting\n",
        "table1 = soup.find('table', class_=\"ds-w-full ds-table ds-table-md ds-table-auto ci-scorecard-table\")\n",
        "t1 = soup.find('span', class_=\"ds-text-title-xs ds-font-bold ds-capitalize\")\n",
        "values = table1.find_all('td', class_='ds-w-0 ds-whitespace-nowrap ds-min-w-max ds-text-right')\n",
        "input = []\n",
        "for value in values:\n",
        "  input.append(value.text)\n",
        "#Team - 2 Batting\n",
        "table2 = table1.find_next('table', class_=\"ds-w-full ds-table ds-table-md ds-table-auto ci-scorecard-table\")\n",
        "t2 =  t1.find_next('span', class_=\"ds-text-title-xs ds-font-bold ds-capitalize\")\n",
        "values = table2.find_all('td', class_='ds-w-0 ds-whitespace-nowrap ds-min-w-max ds-text-right')\n",
        "for value in values:\n",
        "  input.append(value.text)\n",
        "\n",
        "lists = []\n",
        "for i in range(5):\n",
        "    sublist = input[i:5]  \n",
        "    lists.append(sublist)\n",
        "runs = lists[0]\n",
        "balls = lists[1]\n",
        "fours = lists[2]\n",
        "sixes = lists[3]\n",
        "SR = lists[4]\n",
        "len(batting_team)"
      ],
      "metadata": {
        "id": "7wQA2YNbDW6m",
        "colab": {
          "base_uri": "https://localhost:8080/"
        },
        "outputId": "980cffc2-fedd-4239-9c36-351045a17a9e"
      },
      "execution_count": null,
      "outputs": [
        {
          "output_type": "execute_result",
          "data": {
            "text/plain": [
              "80"
            ]
          },
          "metadata": {},
          "execution_count": 121
        }
      ]
    },
    {
      "cell_type": "markdown",
      "source": [
        "# Player Names"
      ],
      "metadata": {
        "id": "3AC1_vpCJ9tD"
      }
    },
    {
      "cell_type": "code",
      "source": [
        "names = []\n",
        "def playerNames(soup):\n",
        "  table1 = soup.find('table', class_=\"ds-w-full ds-table ds-table-md ds-table-auto ci-scorecard-table\")\n",
        "  names_ = table1.find_all('span', class_=\"ds-text-tight-s ds-font-medium ds-text-typo ds-underline ds-decoration-ui-stroke hover:ds-text-typo-primary hover:ds-decoration-ui-stroke-primary ds-block\")\n",
        "  batting_team = []\n",
        "  for name in names_:\n",
        "    names.append(name.text.rstrip('\\xa0'))\n",
        "    batting_team.append(t1.text)\n",
        "  names_ = table1.find_all('span', class_=\"ds-text-tight-s ds-font-medium ds-text-typo ds-underline ds-decoration-ui-stroke hover:ds-text-typo-primary hover:ds-decoration-ui-stroke-primary ds-block\")\n",
        "  for name in names_:\n",
        "    names.append(name.text.rstrip('\\xa0'))\n",
        "    batting_team.append(t2.text)\n",
        "len(batting_team)"
      ],
      "metadata": {
        "id": "mNweySBXLRXN",
        "colab": {
          "base_uri": "https://localhost:8080/"
        },
        "outputId": "990d9115-995e-49b2-8f0a-e969fb8e6f06"
      },
      "execution_count": null,
      "outputs": [
        {
          "output_type": "execute_result",
          "data": {
            "text/plain": [
              "80"
            ]
          },
          "metadata": {},
          "execution_count": 120
        }
      ]
    },
    {
      "cell_type": "markdown",
      "source": [
        "# Match details"
      ],
      "metadata": {
        "id": "47Wg-vzaPXkQ"
      }
    },
    {
      "cell_type": "code",
      "source": [
        "match_name_list = []\n",
        "match_id_list = []\n",
        "def matchDetails(soup):\n",
        "  team1 = soup.find('span', class_=\"ds-text-tight-l ds-font-bold ds-text-typo hover:ds-text-typo-primary ds-block ds-truncate\")\n",
        "  team2 = team1.find_next('span', class_=\"ds-text-tight-l ds-font-bold ds-text-typo hover:ds-text-typo-primary ds-block ds-truncate\")\n",
        "  match_name = (f\"{team1.text} Vs {team2.text}\")\n",
        "\n",
        "  match_id = re.sub(r\".*?match-\", \"\", url)\n",
        "  match_id = re.sub(r\"/f.*\", \"\", match_id)\n",
        "  for i in range(len(names)):\n",
        "    match_name_list.append(match_name)\n",
        "    match_id_list.append(match_id)\n"
      ],
      "metadata": {
        "id": "w2EHbn09PgsP"
      },
      "execution_count": null,
      "outputs": []
    },
    {
      "cell_type": "markdown",
      "source": [
        "# Zipping to CSV"
      ],
      "metadata": {
        "id": "w59q4G91N2if"
      }
    },
    {
      "cell_type": "code",
      "source": [
        "def zipping():\n",
        "  df = pd.DataFrame(zip(match_id_list, match_name_list, names, runs, balls, fours, sixes, SR), columns=['Match ID', 'Match teams', 'Player name','Runs', 'Balls', '4s', '6s', 'Strike Rate'])\n",
        "  csv_file = 'ipl23_batting_summary3.csv'\n",
        "\n",
        "  df.to_csv(csv_file, mode ='a', header=False, index=False)\n",
        "\n",
        "  print(f'Data saved to {csv_file}.')"
      ],
      "metadata": {
        "id": "bxNBm66FOGLD"
      },
      "execution_count": null,
      "outputs": []
    },
    {
      "cell_type": "markdown",
      "source": [
        "# Calls\n",
        "# New Section"
      ],
      "metadata": {
        "id": "doblRG4EP-oO"
      }
    },
    {
      "cell_type": "code",
      "source": [
        "urls"
      ],
      "metadata": {
        "id": "jJ93LOmUx_YV"
      },
      "execution_count": null,
      "outputs": []
    },
    {
      "cell_type": "code",
      "source": [
        "count = 1\n",
        "url = \"https://www.espncricinfo.com/series/indian-premier-league-2023-1345038/gujarat-titans-vs-chennai-super-kings-1st-match-1359475/full-scorecard\"\n",
        "response = requests.get(url)\n",
        "soup = BeautifulSoup(response.content, 'html.parser')\n",
        "\n",
        "#Team - 1 Batting\n",
        "table1 = soup.find('table', class_=\"ds-w-full ds-table ds-table-md ds-table-auto ci-scorecard-table\")\n",
        "t1 = soup.find('span', class_=\"ds-text-title-xs ds-font-bold ds-capitalize\")\n",
        "values = table1.find_all('td', class_='ds-w-0 ds-whitespace-nowrap ds-min-w-max ds-text-right')\n",
        "input = []\n",
        "for value in values:\n",
        "  input.append(value.text)\n",
        "#Team - 2 Batting\n",
        "table2 = table1.find_next('table', class_=\"ds-w-full ds-table ds-table-md ds-table-auto ci-scorecard-table\")\n",
        "t2 =  t1.find_next('span', class_=\"ds-text-title-xs ds-font-bold ds-capitalize\")\n",
        "values = table2.find_all('td', class_='ds-w-0 ds-whitespace-nowrap ds-min-w-max ds-text-right')\n",
        "for value in values:\n",
        "  input.append(value.text)\n",
        "\n",
        "lists = []\n",
        "for i in range(5):\n",
        "    sublist = input[i::5]  \n",
        "    lists.append(sublist)\n",
        "runs = lists[0]\n",
        "balls = lists[1]\n",
        "fours = lists[2]\n",
        "sixes = lists[3]\n",
        "SR = lists[4]\n",
        "names = []\n",
        "table1 = soup.find('table', class_=\"ds-w-full ds-table ds-table-md ds-table-auto ci-scorecard-table\")\n",
        "names_ = table1.find_all('span', class_=\"ds-text-tight-s ds-font-medium ds-text-typo ds-underline ds-decoration-ui-stroke hover:ds-text-typo-primary hover:ds-decoration-ui-stroke-primary ds-block\")\n",
        "batting_team = []\n",
        "for name in names_:\n",
        "  names.append(name.text.rstrip('\\xa0'))\n",
        "  batting_team.append(t1.text)\n",
        "table2 = table1.find_next('table', class_=\"ds-w-full ds-table ds-table-md ds-table-auto ci-scorecard-table\")\n",
        "names_ = table2.find_all('span', class_=\"ds-text-tight-s ds-font-medium ds-text-typo ds-underline ds-decoration-ui-stroke hover:ds-text-typo-primary hover:ds-decoration-ui-stroke-primary ds-block\")\n",
        "for name in names_:\n",
        "  names.append(name.text.rstrip('\\xa0'))\n",
        "  batting_team.append(t2.text)\n",
        "match_name_list = []\n",
        "match_id_list = []\n",
        "team1 = soup.find('span', class_=\"ds-text-tight-l ds-font-bold ds-text-typo hover:ds-text-typo-primary ds-block ds-truncate\")\n",
        "team2 = team1.find_next('span', class_=\"ds-text-tight-l ds-font-bold ds-text-typo hover:ds-text-typo-primary ds-block ds-truncate\")\n",
        "match_name = (f\"{team1.text} Vs {team2.text}\")\n",
        "\n",
        "match_id = re.sub(r\".*?match-\", \"\", url)\n",
        "match_id = re.sub(r\"/f.*\", \"\", match_id)\n",
        "for i in range(len(names)):\n",
        "  match_name_list.append(match_name)\n",
        "  match_id_list.append(match_id)\n",
        "print(match_id_list)\n",
        "df = pd.DataFrame(zip(match_id_list, match_name_list, batting_team, names, runs, balls, fours, sixes, SR), columns=['Match ID', 'Match teams','Batting team', 'Player name','Runs', 'Balls', '4s', '6s', 'Strike Rate'])\n",
        "csv_file = 'ipl23_batting_summary.csv'\n",
        "\n",
        "df.to_csv(csv_file, mode ='a', header=False, index=False)\n",
        "\n",
        "print(f'Match - {count} - Data saved to {csv_file}.')\n",
        "df"
      ],
      "metadata": {
        "colab": {
          "base_uri": "https://localhost:8080/",
          "height": 607
        },
        "id": "_LS_hoY5454_",
        "outputId": "fee40ae5-e8fb-4ea3-93a5-57fb8a31a535"
      },
      "execution_count": null,
      "outputs": [
        {
          "output_type": "stream",
          "name": "stdout",
          "text": [
            "['1359475', '1359475', '1359475', '1359475', '1359475', '1359475', '1359475', '1359475', '1359475', '1359475', '1359475', '1359475', '1359475', '1359475', '1359475', '1359475']\n",
            "Match - 1 - Data saved to ipl23_batting_summary.csv.\n"
          ]
        },
        {
          "output_type": "execute_result",
          "data": {
            "text/plain": [
              "   Match ID                            Match teams         Batting team  \\\n",
              "0   1359475  Chennai Super Kings Vs Gujarat Titans  Chennai Super Kings   \n",
              "1   1359475  Chennai Super Kings Vs Gujarat Titans  Chennai Super Kings   \n",
              "2   1359475  Chennai Super Kings Vs Gujarat Titans  Chennai Super Kings   \n",
              "3   1359475  Chennai Super Kings Vs Gujarat Titans  Chennai Super Kings   \n",
              "4   1359475  Chennai Super Kings Vs Gujarat Titans  Chennai Super Kings   \n",
              "5   1359475  Chennai Super Kings Vs Gujarat Titans  Chennai Super Kings   \n",
              "6   1359475  Chennai Super Kings Vs Gujarat Titans  Chennai Super Kings   \n",
              "7   1359475  Chennai Super Kings Vs Gujarat Titans  Chennai Super Kings   \n",
              "8   1359475  Chennai Super Kings Vs Gujarat Titans  Chennai Super Kings   \n",
              "9   1359475  Chennai Super Kings Vs Gujarat Titans       Gujarat Titans   \n",
              "10  1359475  Chennai Super Kings Vs Gujarat Titans       Gujarat Titans   \n",
              "11  1359475  Chennai Super Kings Vs Gujarat Titans       Gujarat Titans   \n",
              "12  1359475  Chennai Super Kings Vs Gujarat Titans       Gujarat Titans   \n",
              "13  1359475  Chennai Super Kings Vs Gujarat Titans       Gujarat Titans   \n",
              "14  1359475  Chennai Super Kings Vs Gujarat Titans       Gujarat Titans   \n",
              "15  1359475  Chennai Super Kings Vs Gujarat Titans       Gujarat Titans   \n",
              "\n",
              "          Player name Runs Balls 4s 6s Strike Rate  \n",
              "0        Devon Conway    1     6  0  0       16.66  \n",
              "1     Ruturaj Gaikwad   92    50  4  9      184.00  \n",
              "2           Moeen Ali   23    17  4  1      135.29  \n",
              "3          Ben Stokes    7     6  1  0      116.66  \n",
              "4       Ambati Rayudu   12    12  0  1      100.00  \n",
              "5         Shivam Dube   19    18  0  1      105.55  \n",
              "6     Ravindra Jadeja    1     2  0  0       50.00  \n",
              "7       MS Dhoni (c)†   14     7  1  1      200.00  \n",
              "8    Mitchell Santner    1     3  0  0       33.33  \n",
              "9   Wriddhiman Saha †   25    16  2  2      156.25  \n",
              "10       Shubman Gill   63    36  6  3      175.00  \n",
              "11      Sai Sudharsan   22    17  3  0      129.41  \n",
              "12  Hardik Pandya (c)    8    11  0  0       72.72  \n",
              "13      Vijay Shankar   27    21  2  1      128.57  \n",
              "14      Rahul Tewatia   15    14  1  1      107.14  \n",
              "15        Rashid Khan   10     3  1  1      333.33  "
            ],
            "text/html": [
              "\n",
              "  <div id=\"df-f2bf8901-9f3a-4dff-8736-85e2b4ae4e65\">\n",
              "    <div class=\"colab-df-container\">\n",
              "      <div>\n",
              "<style scoped>\n",
              "    .dataframe tbody tr th:only-of-type {\n",
              "        vertical-align: middle;\n",
              "    }\n",
              "\n",
              "    .dataframe tbody tr th {\n",
              "        vertical-align: top;\n",
              "    }\n",
              "\n",
              "    .dataframe thead th {\n",
              "        text-align: right;\n",
              "    }\n",
              "</style>\n",
              "<table border=\"1\" class=\"dataframe\">\n",
              "  <thead>\n",
              "    <tr style=\"text-align: right;\">\n",
              "      <th></th>\n",
              "      <th>Match ID</th>\n",
              "      <th>Match teams</th>\n",
              "      <th>Batting team</th>\n",
              "      <th>Player name</th>\n",
              "      <th>Runs</th>\n",
              "      <th>Balls</th>\n",
              "      <th>4s</th>\n",
              "      <th>6s</th>\n",
              "      <th>Strike Rate</th>\n",
              "    </tr>\n",
              "  </thead>\n",
              "  <tbody>\n",
              "    <tr>\n",
              "      <th>0</th>\n",
              "      <td>1359475</td>\n",
              "      <td>Chennai Super Kings Vs Gujarat Titans</td>\n",
              "      <td>Chennai Super Kings</td>\n",
              "      <td>Devon Conway</td>\n",
              "      <td>1</td>\n",
              "      <td>6</td>\n",
              "      <td>0</td>\n",
              "      <td>0</td>\n",
              "      <td>16.66</td>\n",
              "    </tr>\n",
              "    <tr>\n",
              "      <th>1</th>\n",
              "      <td>1359475</td>\n",
              "      <td>Chennai Super Kings Vs Gujarat Titans</td>\n",
              "      <td>Chennai Super Kings</td>\n",
              "      <td>Ruturaj Gaikwad</td>\n",
              "      <td>92</td>\n",
              "      <td>50</td>\n",
              "      <td>4</td>\n",
              "      <td>9</td>\n",
              "      <td>184.00</td>\n",
              "    </tr>\n",
              "    <tr>\n",
              "      <th>2</th>\n",
              "      <td>1359475</td>\n",
              "      <td>Chennai Super Kings Vs Gujarat Titans</td>\n",
              "      <td>Chennai Super Kings</td>\n",
              "      <td>Moeen Ali</td>\n",
              "      <td>23</td>\n",
              "      <td>17</td>\n",
              "      <td>4</td>\n",
              "      <td>1</td>\n",
              "      <td>135.29</td>\n",
              "    </tr>\n",
              "    <tr>\n",
              "      <th>3</th>\n",
              "      <td>1359475</td>\n",
              "      <td>Chennai Super Kings Vs Gujarat Titans</td>\n",
              "      <td>Chennai Super Kings</td>\n",
              "      <td>Ben Stokes</td>\n",
              "      <td>7</td>\n",
              "      <td>6</td>\n",
              "      <td>1</td>\n",
              "      <td>0</td>\n",
              "      <td>116.66</td>\n",
              "    </tr>\n",
              "    <tr>\n",
              "      <th>4</th>\n",
              "      <td>1359475</td>\n",
              "      <td>Chennai Super Kings Vs Gujarat Titans</td>\n",
              "      <td>Chennai Super Kings</td>\n",
              "      <td>Ambati Rayudu</td>\n",
              "      <td>12</td>\n",
              "      <td>12</td>\n",
              "      <td>0</td>\n",
              "      <td>1</td>\n",
              "      <td>100.00</td>\n",
              "    </tr>\n",
              "    <tr>\n",
              "      <th>5</th>\n",
              "      <td>1359475</td>\n",
              "      <td>Chennai Super Kings Vs Gujarat Titans</td>\n",
              "      <td>Chennai Super Kings</td>\n",
              "      <td>Shivam Dube</td>\n",
              "      <td>19</td>\n",
              "      <td>18</td>\n",
              "      <td>0</td>\n",
              "      <td>1</td>\n",
              "      <td>105.55</td>\n",
              "    </tr>\n",
              "    <tr>\n",
              "      <th>6</th>\n",
              "      <td>1359475</td>\n",
              "      <td>Chennai Super Kings Vs Gujarat Titans</td>\n",
              "      <td>Chennai Super Kings</td>\n",
              "      <td>Ravindra Jadeja</td>\n",
              "      <td>1</td>\n",
              "      <td>2</td>\n",
              "      <td>0</td>\n",
              "      <td>0</td>\n",
              "      <td>50.00</td>\n",
              "    </tr>\n",
              "    <tr>\n",
              "      <th>7</th>\n",
              "      <td>1359475</td>\n",
              "      <td>Chennai Super Kings Vs Gujarat Titans</td>\n",
              "      <td>Chennai Super Kings</td>\n",
              "      <td>MS Dhoni (c)†</td>\n",
              "      <td>14</td>\n",
              "      <td>7</td>\n",
              "      <td>1</td>\n",
              "      <td>1</td>\n",
              "      <td>200.00</td>\n",
              "    </tr>\n",
              "    <tr>\n",
              "      <th>8</th>\n",
              "      <td>1359475</td>\n",
              "      <td>Chennai Super Kings Vs Gujarat Titans</td>\n",
              "      <td>Chennai Super Kings</td>\n",
              "      <td>Mitchell Santner</td>\n",
              "      <td>1</td>\n",
              "      <td>3</td>\n",
              "      <td>0</td>\n",
              "      <td>0</td>\n",
              "      <td>33.33</td>\n",
              "    </tr>\n",
              "    <tr>\n",
              "      <th>9</th>\n",
              "      <td>1359475</td>\n",
              "      <td>Chennai Super Kings Vs Gujarat Titans</td>\n",
              "      <td>Gujarat Titans</td>\n",
              "      <td>Wriddhiman Saha †</td>\n",
              "      <td>25</td>\n",
              "      <td>16</td>\n",
              "      <td>2</td>\n",
              "      <td>2</td>\n",
              "      <td>156.25</td>\n",
              "    </tr>\n",
              "    <tr>\n",
              "      <th>10</th>\n",
              "      <td>1359475</td>\n",
              "      <td>Chennai Super Kings Vs Gujarat Titans</td>\n",
              "      <td>Gujarat Titans</td>\n",
              "      <td>Shubman Gill</td>\n",
              "      <td>63</td>\n",
              "      <td>36</td>\n",
              "      <td>6</td>\n",
              "      <td>3</td>\n",
              "      <td>175.00</td>\n",
              "    </tr>\n",
              "    <tr>\n",
              "      <th>11</th>\n",
              "      <td>1359475</td>\n",
              "      <td>Chennai Super Kings Vs Gujarat Titans</td>\n",
              "      <td>Gujarat Titans</td>\n",
              "      <td>Sai Sudharsan</td>\n",
              "      <td>22</td>\n",
              "      <td>17</td>\n",
              "      <td>3</td>\n",
              "      <td>0</td>\n",
              "      <td>129.41</td>\n",
              "    </tr>\n",
              "    <tr>\n",
              "      <th>12</th>\n",
              "      <td>1359475</td>\n",
              "      <td>Chennai Super Kings Vs Gujarat Titans</td>\n",
              "      <td>Gujarat Titans</td>\n",
              "      <td>Hardik Pandya (c)</td>\n",
              "      <td>8</td>\n",
              "      <td>11</td>\n",
              "      <td>0</td>\n",
              "      <td>0</td>\n",
              "      <td>72.72</td>\n",
              "    </tr>\n",
              "    <tr>\n",
              "      <th>13</th>\n",
              "      <td>1359475</td>\n",
              "      <td>Chennai Super Kings Vs Gujarat Titans</td>\n",
              "      <td>Gujarat Titans</td>\n",
              "      <td>Vijay Shankar</td>\n",
              "      <td>27</td>\n",
              "      <td>21</td>\n",
              "      <td>2</td>\n",
              "      <td>1</td>\n",
              "      <td>128.57</td>\n",
              "    </tr>\n",
              "    <tr>\n",
              "      <th>14</th>\n",
              "      <td>1359475</td>\n",
              "      <td>Chennai Super Kings Vs Gujarat Titans</td>\n",
              "      <td>Gujarat Titans</td>\n",
              "      <td>Rahul Tewatia</td>\n",
              "      <td>15</td>\n",
              "      <td>14</td>\n",
              "      <td>1</td>\n",
              "      <td>1</td>\n",
              "      <td>107.14</td>\n",
              "    </tr>\n",
              "    <tr>\n",
              "      <th>15</th>\n",
              "      <td>1359475</td>\n",
              "      <td>Chennai Super Kings Vs Gujarat Titans</td>\n",
              "      <td>Gujarat Titans</td>\n",
              "      <td>Rashid Khan</td>\n",
              "      <td>10</td>\n",
              "      <td>3</td>\n",
              "      <td>1</td>\n",
              "      <td>1</td>\n",
              "      <td>333.33</td>\n",
              "    </tr>\n",
              "  </tbody>\n",
              "</table>\n",
              "</div>\n",
              "      <button class=\"colab-df-convert\" onclick=\"convertToInteractive('df-f2bf8901-9f3a-4dff-8736-85e2b4ae4e65')\"\n",
              "              title=\"Convert this dataframe to an interactive table.\"\n",
              "              style=\"display:none;\">\n",
              "        \n",
              "  <svg xmlns=\"http://www.w3.org/2000/svg\" height=\"24px\"viewBox=\"0 0 24 24\"\n",
              "       width=\"24px\">\n",
              "    <path d=\"M0 0h24v24H0V0z\" fill=\"none\"/>\n",
              "    <path d=\"M18.56 5.44l.94 2.06.94-2.06 2.06-.94-2.06-.94-.94-2.06-.94 2.06-2.06.94zm-11 1L8.5 8.5l.94-2.06 2.06-.94-2.06-.94L8.5 2.5l-.94 2.06-2.06.94zm10 10l.94 2.06.94-2.06 2.06-.94-2.06-.94-.94-2.06-.94 2.06-2.06.94z\"/><path d=\"M17.41 7.96l-1.37-1.37c-.4-.4-.92-.59-1.43-.59-.52 0-1.04.2-1.43.59L10.3 9.45l-7.72 7.72c-.78.78-.78 2.05 0 2.83L4 21.41c.39.39.9.59 1.41.59.51 0 1.02-.2 1.41-.59l7.78-7.78 2.81-2.81c.8-.78.8-2.07 0-2.86zM5.41 20L4 18.59l7.72-7.72 1.47 1.35L5.41 20z\"/>\n",
              "  </svg>\n",
              "      </button>\n",
              "      \n",
              "  <style>\n",
              "    .colab-df-container {\n",
              "      display:flex;\n",
              "      flex-wrap:wrap;\n",
              "      gap: 12px;\n",
              "    }\n",
              "\n",
              "    .colab-df-convert {\n",
              "      background-color: #E8F0FE;\n",
              "      border: none;\n",
              "      border-radius: 50%;\n",
              "      cursor: pointer;\n",
              "      display: none;\n",
              "      fill: #1967D2;\n",
              "      height: 32px;\n",
              "      padding: 0 0 0 0;\n",
              "      width: 32px;\n",
              "    }\n",
              "\n",
              "    .colab-df-convert:hover {\n",
              "      background-color: #E2EBFA;\n",
              "      box-shadow: 0px 1px 2px rgba(60, 64, 67, 0.3), 0px 1px 3px 1px rgba(60, 64, 67, 0.15);\n",
              "      fill: #174EA6;\n",
              "    }\n",
              "\n",
              "    [theme=dark] .colab-df-convert {\n",
              "      background-color: #3B4455;\n",
              "      fill: #D2E3FC;\n",
              "    }\n",
              "\n",
              "    [theme=dark] .colab-df-convert:hover {\n",
              "      background-color: #434B5C;\n",
              "      box-shadow: 0px 1px 3px 1px rgba(0, 0, 0, 0.15);\n",
              "      filter: drop-shadow(0px 1px 2px rgba(0, 0, 0, 0.3));\n",
              "      fill: #FFFFFF;\n",
              "    }\n",
              "  </style>\n",
              "\n",
              "      <script>\n",
              "        const buttonEl =\n",
              "          document.querySelector('#df-f2bf8901-9f3a-4dff-8736-85e2b4ae4e65 button.colab-df-convert');\n",
              "        buttonEl.style.display =\n",
              "          google.colab.kernel.accessAllowed ? 'block' : 'none';\n",
              "\n",
              "        async function convertToInteractive(key) {\n",
              "          const element = document.querySelector('#df-f2bf8901-9f3a-4dff-8736-85e2b4ae4e65');\n",
              "          const dataTable =\n",
              "            await google.colab.kernel.invokeFunction('convertToInteractive',\n",
              "                                                     [key], {});\n",
              "          if (!dataTable) return;\n",
              "\n",
              "          const docLinkHtml = 'Like what you see? Visit the ' +\n",
              "            '<a target=\"_blank\" href=https://colab.research.google.com/notebooks/data_table.ipynb>data table notebook</a>'\n",
              "            + ' to learn more about interactive tables.';\n",
              "          element.innerHTML = '';\n",
              "          dataTable['output_type'] = 'display_data';\n",
              "          await google.colab.output.renderOutput(dataTable, element);\n",
              "          const docLink = document.createElement('div');\n",
              "          docLink.innerHTML = docLinkHtml;\n",
              "          element.appendChild(docLink);\n",
              "        }\n",
              "      </script>\n",
              "    </div>\n",
              "  </div>\n",
              "  "
            ]
          },
          "metadata": {},
          "execution_count": 164
        }
      ]
    },
    {
      "cell_type": "code",
      "source": [
        "count = 2\n",
        "for url in urls[1:]:\n",
        "  response = requests.get(url)\n",
        "  soup = BeautifulSoup(response.content, 'html.parser')\n",
        "  balls = []\n",
        "  fours = []\n",
        "  sixes = []\n",
        "  SR = []\n",
        "  #Team - 1 Batting\n",
        "  table1 = soup.find('table', class_=\"ds-w-full ds-table ds-table-md ds-table-auto ci-scorecard-table\")\n",
        "  t1 = soup.find('span', class_=\"ds-text-title-xs ds-font-bold ds-capitalize\")\n",
        "  values = table1.find_all('td', class_='ds-w-0 ds-whitespace-nowrap ds-min-w-max ds-text-right')\n",
        "  input = []\n",
        "  for value in values:\n",
        "    input.append(value.text)\n",
        "  #Team - 2 Batting\n",
        "  try:\n",
        "    table2 = table1.find_next('table', class_=\"ds-w-full ds-table ds-table-md ds-table-auto ci-scorecard-table\")\n",
        "    t2 =  t1.find_next('span', class_=\"ds-text-title-xs ds-font-bold ds-capitalize\")\n",
        "    values = table2.find_all('td', class_='ds-w-0 ds-whitespace-nowrap ds-min-w-max ds-text-right')\n",
        "    for value in values:\n",
        "      input.append(value.text)\n",
        "  except AttributeError:\n",
        "    print(f\" Match number {count} was suspended \\n url: {url} ,\")\n",
        "    continue\n",
        "\n",
        "  \n",
        "  lists = []\n",
        "  for i in range(6):\n",
        "      sublist = input[i::6]  \n",
        "      lists.append(sublist)\n",
        "  runs = lists[0]\n",
        "  balls = lists[1]\n",
        "  fours = lists[3]\n",
        "  sixes = lists[4]\n",
        "  SR = lists[5]\n",
        "  names = []\n",
        "  table1 = soup.find('table', class_=\"ds-w-full ds-table ds-table-md ds-table-auto ci-scorecard-table\")\n",
        "  names_ = table1.find_all('span', class_=\"ds-text-tight-s ds-font-medium ds-text-typo ds-underline ds-decoration-ui-stroke hover:ds-text-typo-primary hover:ds-decoration-ui-stroke-primary ds-block\")\n",
        "  batting_team = []\n",
        "  for name in names_:\n",
        "    names.append(name.text.rstrip('\\xa0'))\n",
        "    batting_team.append(t1.text)\n",
        "  table2 = table1.find_next('table', class_=\"ds-w-full ds-table ds-table-md ds-table-auto ci-scorecard-table\")\n",
        "  names_ = table2.find('span', class_=\"ds-text-tight-s ds-font-medium ds-text-typo ds-underline ds-decoration-ui-stroke hover:ds-text-typo-primary hover:ds-decoration-ui-stroke-primary ds-block\")\n",
        "  for name in names_:\n",
        "    names.append(name.text.rstrip('\\xa0'))\n",
        "    batting_team.append(t2.text)\n",
        "  match_name_list = []\n",
        "  match_id_list = []\n",
        "  team1 = soup.find('span', class_=\"ds-text-tight-l ds-font-bold ds-text-typo hover:ds-text-typo-primary ds-block ds-truncate\")\n",
        "  team2 = team1.find_next('span', class_=\"ds-text-tight-l ds-font-bold ds-text-typo hover:ds-text-typo-primary ds-block ds-truncate\")\n",
        "  match_name = (f\"{team1.text} Vs {team2.text}\")\n",
        "\n",
        "  match_id = re.sub(r\".*?match-\", \"\", url)\n",
        "  if match_id == url:\n",
        "    match_id = re.sub(r\".*?-137\", \"137\", url)\n",
        "  match_id = re.sub(r\"/f.*\", \"\", match_id)\n",
        "  for i in range(len(names)):\n",
        "    match_name_list.append(match_name)\n",
        "    match_id_list.append(match_id)\n",
        "  df = pd.DataFrame(zip(match_id_list, match_name_list, batting_team, names, runs, balls, fours, sixes, SR), columns=['Match ID', 'Match teams','Batting team', 'Player name','Runs', 'Balls', '4s', '6s', 'Strike Rate'])\n",
        "  csv_file = 'ipl23_batting_summary.csv'\n",
        "\n",
        "  df.to_csv(csv_file, mode ='a', header=True, index=False)\n",
        "\n",
        "  print(f'Match - {count-1} - Data saved to {csv_file}.')\n",
        "  count = count+1"
      ],
      "metadata": {
        "colab": {
          "base_uri": "https://localhost:8080/"
        },
        "id": "-9Q9uNoFjsSb",
        "outputId": "a7f8281d-05e0-48b8-be19-31918df934f9"
      },
      "execution_count": null,
      "outputs": [
        {
          "output_type": "stream",
          "name": "stdout",
          "text": [
            "Match - 1 - Data saved to ipl23_batting_summary.csv.\n",
            "Match - 2 - Data saved to ipl23_batting_summary.csv.\n",
            "Match - 3 - Data saved to ipl23_batting_summary.csv.\n",
            "Match - 4 - Data saved to ipl23_batting_summary.csv.\n",
            "Match - 5 - Data saved to ipl23_batting_summary.csv.\n",
            "Match - 6 - Data saved to ipl23_batting_summary.csv.\n",
            "Match - 7 - Data saved to ipl23_batting_summary.csv.\n",
            "Match - 8 - Data saved to ipl23_batting_summary.csv.\n",
            "Match - 9 - Data saved to ipl23_batting_summary.csv.\n",
            "Match - 10 - Data saved to ipl23_batting_summary.csv.\n",
            "Match - 11 - Data saved to ipl23_batting_summary.csv.\n",
            "Match - 12 - Data saved to ipl23_batting_summary.csv.\n",
            "Match - 13 - Data saved to ipl23_batting_summary.csv.\n",
            "Match - 14 - Data saved to ipl23_batting_summary.csv.\n",
            "Match - 15 - Data saved to ipl23_batting_summary.csv.\n",
            "Match - 16 - Data saved to ipl23_batting_summary.csv.\n",
            "Match - 17 - Data saved to ipl23_batting_summary.csv.\n",
            "Match - 18 - Data saved to ipl23_batting_summary.csv.\n",
            "Match - 19 - Data saved to ipl23_batting_summary.csv.\n",
            "Match - 20 - Data saved to ipl23_batting_summary.csv.\n",
            "Match - 21 - Data saved to ipl23_batting_summary.csv.\n",
            "Match - 22 - Data saved to ipl23_batting_summary.csv.\n",
            "Match - 23 - Data saved to ipl23_batting_summary.csv.\n",
            "Match - 24 - Data saved to ipl23_batting_summary.csv.\n",
            "Match - 25 - Data saved to ipl23_batting_summary.csv.\n",
            "Match - 26 - Data saved to ipl23_batting_summary.csv.\n",
            "Match - 27 - Data saved to ipl23_batting_summary.csv.\n",
            "Match - 28 - Data saved to ipl23_batting_summary.csv.\n",
            "Match - 29 - Data saved to ipl23_batting_summary.csv.\n",
            "Match - 30 - Data saved to ipl23_batting_summary.csv.\n",
            "Match - 31 - Data saved to ipl23_batting_summary.csv.\n",
            "Match - 32 - Data saved to ipl23_batting_summary.csv.\n",
            "Match - 33 - Data saved to ipl23_batting_summary.csv.\n",
            "Match - 34 - Data saved to ipl23_batting_summary.csv.\n",
            "Match - 35 - Data saved to ipl23_batting_summary.csv.\n",
            "Match - 36 - Data saved to ipl23_batting_summary.csv.\n",
            "Match - 37 - Data saved to ipl23_batting_summary.csv.\n",
            "Match - 38 - Data saved to ipl23_batting_summary.csv.\n",
            "Match - 39 - Data saved to ipl23_batting_summary.csv.\n",
            "Match - 40 - Data saved to ipl23_batting_summary.csv.\n",
            "Match - 41 - Data saved to ipl23_batting_summary.csv.\n",
            "Match - 42 - Data saved to ipl23_batting_summary.csv.\n",
            "Match - 43 - Data saved to ipl23_batting_summary.csv.\n",
            " Match number 45 was suspended \n",
            " url: https://www.espncricinfo.com/series/indian-premier-league-2023-1345038/lucknow-super-giants-vs-chennai-super-kings-45th-match-1359519/full-scorecard ,\n",
            "Match - 44 - Data saved to ipl23_batting_summary.csv.\n",
            "Match - 45 - Data saved to ipl23_batting_summary.csv.\n",
            "Match - 46 - Data saved to ipl23_batting_summary.csv.\n",
            "Match - 47 - Data saved to ipl23_batting_summary.csv.\n",
            "Match - 48 - Data saved to ipl23_batting_summary.csv.\n",
            "Match - 49 - Data saved to ipl23_batting_summary.csv.\n",
            "Match - 50 - Data saved to ipl23_batting_summary.csv.\n",
            "Match - 51 - Data saved to ipl23_batting_summary.csv.\n",
            "Match - 52 - Data saved to ipl23_batting_summary.csv.\n",
            "Match - 53 - Data saved to ipl23_batting_summary.csv.\n",
            "Match - 54 - Data saved to ipl23_batting_summary.csv.\n",
            "Match - 55 - Data saved to ipl23_batting_summary.csv.\n",
            "Match - 56 - Data saved to ipl23_batting_summary.csv.\n",
            "Match - 57 - Data saved to ipl23_batting_summary.csv.\n",
            "Match - 58 - Data saved to ipl23_batting_summary.csv.\n",
            "Match - 59 - Data saved to ipl23_batting_summary.csv.\n",
            "Match - 60 - Data saved to ipl23_batting_summary.csv.\n",
            "Match - 61 - Data saved to ipl23_batting_summary.csv.\n",
            "Match - 62 - Data saved to ipl23_batting_summary.csv.\n",
            "Match - 63 - Data saved to ipl23_batting_summary.csv.\n",
            "Match - 64 - Data saved to ipl23_batting_summary.csv.\n",
            "Match - 65 - Data saved to ipl23_batting_summary.csv.\n",
            "Match - 66 - Data saved to ipl23_batting_summary.csv.\n",
            "Match - 67 - Data saved to ipl23_batting_summary.csv.\n",
            "Match - 68 - Data saved to ipl23_batting_summary.csv.\n",
            "Match - 69 - Data saved to ipl23_batting_summary.csv.\n",
            "Match - 70 - Data saved to ipl23_batting_summary.csv.\n",
            "Match - 71 - Data saved to ipl23_batting_summary.csv.\n",
            "Match - 72 - Data saved to ipl23_batting_summary.csv.\n"
          ]
        }
      ]
    },
    {
      "cell_type": "code",
      "source": [
        "df.head(10)"
      ],
      "metadata": {
        "colab": {
          "base_uri": "https://localhost:8080/",
          "height": 237
        },
        "id": "k6MeKTJIaVbs",
        "outputId": "3709fb4f-c0cc-4334-f0fd-dac35bfe34e1"
      },
      "execution_count": null,
      "outputs": [
        {
          "output_type": "execute_result",
          "data": {
            "text/plain": [
              "  Match ID                            Match teams         Batting team  \\\n",
              "0  1370353  Gujarat Titans Vs Chennai Super Kings       Gujarat Titans   \n",
              "1  1370353  Gujarat Titans Vs Chennai Super Kings       Gujarat Titans   \n",
              "2  1370353  Gujarat Titans Vs Chennai Super Kings       Gujarat Titans   \n",
              "3  1370353  Gujarat Titans Vs Chennai Super Kings       Gujarat Titans   \n",
              "4  1370353  Gujarat Titans Vs Chennai Super Kings       Gujarat Titans   \n",
              "5  1370353  Gujarat Titans Vs Chennai Super Kings  Chennai Super Kings   \n",
              "\n",
              "         Player name Runs Balls 4s 6s Strike Rate  \n",
              "0  Wriddhiman Saha †   54    39  5  1      138.46  \n",
              "1       Shubman Gill   39    20  7  0      195.00  \n",
              "2      Sai Sudharsan   96    47  8  6      204.25  \n",
              "3  Hardik Pandya (c)   21    12  0  2      175.00  \n",
              "4        Rashid Khan    0     2  0  0        0.00  \n",
              "5    Ruturaj Gaikwad   26    16  3  1      162.50  "
            ],
            "text/html": [
              "\n",
              "  <div id=\"df-ccb0a279-2af7-42e8-89d0-7a132a81e007\">\n",
              "    <div class=\"colab-df-container\">\n",
              "      <div>\n",
              "<style scoped>\n",
              "    .dataframe tbody tr th:only-of-type {\n",
              "        vertical-align: middle;\n",
              "    }\n",
              "\n",
              "    .dataframe tbody tr th {\n",
              "        vertical-align: top;\n",
              "    }\n",
              "\n",
              "    .dataframe thead th {\n",
              "        text-align: right;\n",
              "    }\n",
              "</style>\n",
              "<table border=\"1\" class=\"dataframe\">\n",
              "  <thead>\n",
              "    <tr style=\"text-align: right;\">\n",
              "      <th></th>\n",
              "      <th>Match ID</th>\n",
              "      <th>Match teams</th>\n",
              "      <th>Batting team</th>\n",
              "      <th>Player name</th>\n",
              "      <th>Runs</th>\n",
              "      <th>Balls</th>\n",
              "      <th>4s</th>\n",
              "      <th>6s</th>\n",
              "      <th>Strike Rate</th>\n",
              "    </tr>\n",
              "  </thead>\n",
              "  <tbody>\n",
              "    <tr>\n",
              "      <th>0</th>\n",
              "      <td>1370353</td>\n",
              "      <td>Gujarat Titans Vs Chennai Super Kings</td>\n",
              "      <td>Gujarat Titans</td>\n",
              "      <td>Wriddhiman Saha †</td>\n",
              "      <td>54</td>\n",
              "      <td>39</td>\n",
              "      <td>5</td>\n",
              "      <td>1</td>\n",
              "      <td>138.46</td>\n",
              "    </tr>\n",
              "    <tr>\n",
              "      <th>1</th>\n",
              "      <td>1370353</td>\n",
              "      <td>Gujarat Titans Vs Chennai Super Kings</td>\n",
              "      <td>Gujarat Titans</td>\n",
              "      <td>Shubman Gill</td>\n",
              "      <td>39</td>\n",
              "      <td>20</td>\n",
              "      <td>7</td>\n",
              "      <td>0</td>\n",
              "      <td>195.00</td>\n",
              "    </tr>\n",
              "    <tr>\n",
              "      <th>2</th>\n",
              "      <td>1370353</td>\n",
              "      <td>Gujarat Titans Vs Chennai Super Kings</td>\n",
              "      <td>Gujarat Titans</td>\n",
              "      <td>Sai Sudharsan</td>\n",
              "      <td>96</td>\n",
              "      <td>47</td>\n",
              "      <td>8</td>\n",
              "      <td>6</td>\n",
              "      <td>204.25</td>\n",
              "    </tr>\n",
              "    <tr>\n",
              "      <th>3</th>\n",
              "      <td>1370353</td>\n",
              "      <td>Gujarat Titans Vs Chennai Super Kings</td>\n",
              "      <td>Gujarat Titans</td>\n",
              "      <td>Hardik Pandya (c)</td>\n",
              "      <td>21</td>\n",
              "      <td>12</td>\n",
              "      <td>0</td>\n",
              "      <td>2</td>\n",
              "      <td>175.00</td>\n",
              "    </tr>\n",
              "    <tr>\n",
              "      <th>4</th>\n",
              "      <td>1370353</td>\n",
              "      <td>Gujarat Titans Vs Chennai Super Kings</td>\n",
              "      <td>Gujarat Titans</td>\n",
              "      <td>Rashid Khan</td>\n",
              "      <td>0</td>\n",
              "      <td>2</td>\n",
              "      <td>0</td>\n",
              "      <td>0</td>\n",
              "      <td>0.00</td>\n",
              "    </tr>\n",
              "    <tr>\n",
              "      <th>5</th>\n",
              "      <td>1370353</td>\n",
              "      <td>Gujarat Titans Vs Chennai Super Kings</td>\n",
              "      <td>Chennai Super Kings</td>\n",
              "      <td>Ruturaj Gaikwad</td>\n",
              "      <td>26</td>\n",
              "      <td>16</td>\n",
              "      <td>3</td>\n",
              "      <td>1</td>\n",
              "      <td>162.50</td>\n",
              "    </tr>\n",
              "  </tbody>\n",
              "</table>\n",
              "</div>\n",
              "      <button class=\"colab-df-convert\" onclick=\"convertToInteractive('df-ccb0a279-2af7-42e8-89d0-7a132a81e007')\"\n",
              "              title=\"Convert this dataframe to an interactive table.\"\n",
              "              style=\"display:none;\">\n",
              "        \n",
              "  <svg xmlns=\"http://www.w3.org/2000/svg\" height=\"24px\"viewBox=\"0 0 24 24\"\n",
              "       width=\"24px\">\n",
              "    <path d=\"M0 0h24v24H0V0z\" fill=\"none\"/>\n",
              "    <path d=\"M18.56 5.44l.94 2.06.94-2.06 2.06-.94-2.06-.94-.94-2.06-.94 2.06-2.06.94zm-11 1L8.5 8.5l.94-2.06 2.06-.94-2.06-.94L8.5 2.5l-.94 2.06-2.06.94zm10 10l.94 2.06.94-2.06 2.06-.94-2.06-.94-.94-2.06-.94 2.06-2.06.94z\"/><path d=\"M17.41 7.96l-1.37-1.37c-.4-.4-.92-.59-1.43-.59-.52 0-1.04.2-1.43.59L10.3 9.45l-7.72 7.72c-.78.78-.78 2.05 0 2.83L4 21.41c.39.39.9.59 1.41.59.51 0 1.02-.2 1.41-.59l7.78-7.78 2.81-2.81c.8-.78.8-2.07 0-2.86zM5.41 20L4 18.59l7.72-7.72 1.47 1.35L5.41 20z\"/>\n",
              "  </svg>\n",
              "      </button>\n",
              "      \n",
              "  <style>\n",
              "    .colab-df-container {\n",
              "      display:flex;\n",
              "      flex-wrap:wrap;\n",
              "      gap: 12px;\n",
              "    }\n",
              "\n",
              "    .colab-df-convert {\n",
              "      background-color: #E8F0FE;\n",
              "      border: none;\n",
              "      border-radius: 50%;\n",
              "      cursor: pointer;\n",
              "      display: none;\n",
              "      fill: #1967D2;\n",
              "      height: 32px;\n",
              "      padding: 0 0 0 0;\n",
              "      width: 32px;\n",
              "    }\n",
              "\n",
              "    .colab-df-convert:hover {\n",
              "      background-color: #E2EBFA;\n",
              "      box-shadow: 0px 1px 2px rgba(60, 64, 67, 0.3), 0px 1px 3px 1px rgba(60, 64, 67, 0.15);\n",
              "      fill: #174EA6;\n",
              "    }\n",
              "\n",
              "    [theme=dark] .colab-df-convert {\n",
              "      background-color: #3B4455;\n",
              "      fill: #D2E3FC;\n",
              "    }\n",
              "\n",
              "    [theme=dark] .colab-df-convert:hover {\n",
              "      background-color: #434B5C;\n",
              "      box-shadow: 0px 1px 3px 1px rgba(0, 0, 0, 0.15);\n",
              "      filter: drop-shadow(0px 1px 2px rgba(0, 0, 0, 0.3));\n",
              "      fill: #FFFFFF;\n",
              "    }\n",
              "  </style>\n",
              "\n",
              "      <script>\n",
              "        const buttonEl =\n",
              "          document.querySelector('#df-ccb0a279-2af7-42e8-89d0-7a132a81e007 button.colab-df-convert');\n",
              "        buttonEl.style.display =\n",
              "          google.colab.kernel.accessAllowed ? 'block' : 'none';\n",
              "\n",
              "        async function convertToInteractive(key) {\n",
              "          const element = document.querySelector('#df-ccb0a279-2af7-42e8-89d0-7a132a81e007');\n",
              "          const dataTable =\n",
              "            await google.colab.kernel.invokeFunction('convertToInteractive',\n",
              "                                                     [key], {});\n",
              "          if (!dataTable) return;\n",
              "\n",
              "          const docLinkHtml = 'Like what you see? Visit the ' +\n",
              "            '<a target=\"_blank\" href=https://colab.research.google.com/notebooks/data_table.ipynb>data table notebook</a>'\n",
              "            + ' to learn more about interactive tables.';\n",
              "          element.innerHTML = '';\n",
              "          dataTable['output_type'] = 'display_data';\n",
              "          await google.colab.output.renderOutput(dataTable, element);\n",
              "          const docLink = document.createElement('div');\n",
              "          docLink.innerHTML = docLinkHtml;\n",
              "          element.appendChild(docLink);\n",
              "        }\n",
              "      </script>\n",
              "    </div>\n",
              "  </div>\n",
              "  "
            ]
          },
          "metadata": {},
          "execution_count": 155
        }
      ]
    },
    {
      "cell_type": "code",
      "source": [
        "urls[42]"
      ],
      "metadata": {
        "colab": {
          "base_uri": "https://localhost:8080/",
          "height": 54
        },
        "id": "HfgdFVT8zg_c",
        "outputId": "8020fd55-ddbf-4797-8181-6b7ab3f3c973"
      },
      "execution_count": null,
      "outputs": [
        {
          "output_type": "execute_result",
          "data": {
            "text/plain": [
              "'https://www.espncricinfo.com/series/indian-premier-league-2023-1345038/lucknow-super-giants-vs-royal-challengers-bangalore-43rd-match-1359517/full-scorecard'"
            ],
            "application/vnd.google.colaboratory.intrinsic+json": {
              "type": "string"
            }
          },
          "metadata": {},
          "execution_count": 98
        }
      ]
    },
    {
      "cell_type": "code",
      "source": [
        "url = 'https://www.espncricinfo.com/series/indian-premier-league-2023-1345038/gujarat-titans-vs-chennai-super-kings-1st-match-1359475/full-scorecard'\n",
        "response = requests.get(url)\n",
        "soup = BeautifulSoup(response.content, 'html.parser')\n",
        "run(soup)\n"
      ],
      "metadata": {
        "colab": {
          "base_uri": "https://localhost:8080/"
        },
        "id": "851lKto3QDaP",
        "outputId": "9750d5bb-a5f4-463d-dfa5-2cc9aca3e604"
      },
      "execution_count": null,
      "outputs": [
        {
          "output_type": "stream",
          "name": "stdout",
          "text": [
            "Data saved to ipl23_batting_summary2.csv.\n"
          ]
        }
      ]
    },
    {
      "cell_type": "code",
      "source": [
        "column_headers = df.columns.tolist()\n",
        "\n",
        "# Print the column headers\n",
        "print(column_headers)\n",
        "df"
      ],
      "metadata": {
        "id": "PN488kFjaPU6",
        "outputId": "407bdd18-dad5-409e-8c51-ab0956f5fa9f",
        "colab": {
          "base_uri": "https://localhost:8080/",
          "height": 243
        }
      },
      "execution_count": null,
      "outputs": [
        {
          "output_type": "error",
          "ename": "NameError",
          "evalue": "ignored",
          "traceback": [
            "\u001b[0;31m---------------------------------------------------------------------------\u001b[0m",
            "\u001b[0;31mNameError\u001b[0m                                 Traceback (most recent call last)",
            "\u001b[0;32m<ipython-input-1-0168f4480013>\u001b[0m in \u001b[0;36m<cell line: 1>\u001b[0;34m()\u001b[0m\n\u001b[0;32m----> 1\u001b[0;31m \u001b[0mcolumn_headers\u001b[0m \u001b[0;34m=\u001b[0m \u001b[0mdf\u001b[0m\u001b[0;34m.\u001b[0m\u001b[0mcolumns\u001b[0m\u001b[0;34m.\u001b[0m\u001b[0mtolist\u001b[0m\u001b[0;34m(\u001b[0m\u001b[0;34m)\u001b[0m\u001b[0;34m\u001b[0m\u001b[0;34m\u001b[0m\u001b[0m\n\u001b[0m\u001b[1;32m      2\u001b[0m \u001b[0;34m\u001b[0m\u001b[0m\n\u001b[1;32m      3\u001b[0m \u001b[0;31m# Print the column headers\u001b[0m\u001b[0;34m\u001b[0m\u001b[0;34m\u001b[0m\u001b[0m\n\u001b[1;32m      4\u001b[0m \u001b[0mprint\u001b[0m\u001b[0;34m(\u001b[0m\u001b[0mcolumn_headers\u001b[0m\u001b[0;34m)\u001b[0m\u001b[0;34m\u001b[0m\u001b[0;34m\u001b[0m\u001b[0m\n\u001b[1;32m      5\u001b[0m \u001b[0mdf\u001b[0m\u001b[0;34m\u001b[0m\u001b[0;34m\u001b[0m\u001b[0m\n",
            "\u001b[0;31mNameError\u001b[0m: name 'df' is not defined"
          ]
        }
      ]
    },
    {
      "cell_type": "code",
      "source": [
        "with open(csv_file, 'w') as file:\n",
        "    # Truncate the file, effectively clearing its contents\n",
        "    file.truncate()"
      ],
      "metadata": {
        "colab": {
          "base_uri": "https://localhost:8080/",
          "height": 207
        },
        "id": "M2PGxRCjt8SJ",
        "outputId": "4bd20044-10cf-43db-edd5-b1a9156513dd"
      },
      "execution_count": null,
      "outputs": [
        {
          "output_type": "error",
          "ename": "NameError",
          "evalue": "ignored",
          "traceback": [
            "\u001b[0;31m---------------------------------------------------------------------------\u001b[0m",
            "\u001b[0;31mNameError\u001b[0m                                 Traceback (most recent call last)",
            "\u001b[0;32m<ipython-input-84-ddc30a30203e>\u001b[0m in \u001b[0;36m<cell line: 1>\u001b[0;34m()\u001b[0m\n\u001b[0;32m----> 1\u001b[0;31m \u001b[0;32mwith\u001b[0m \u001b[0mopen\u001b[0m\u001b[0;34m(\u001b[0m\u001b[0mcsv_file\u001b[0m\u001b[0;34m,\u001b[0m \u001b[0;34m'w'\u001b[0m\u001b[0;34m)\u001b[0m \u001b[0;32mas\u001b[0m \u001b[0mfile\u001b[0m\u001b[0;34m:\u001b[0m\u001b[0;34m\u001b[0m\u001b[0;34m\u001b[0m\u001b[0m\n\u001b[0m\u001b[1;32m      2\u001b[0m     \u001b[0;31m# Truncate the file, effectively clearing its contents\u001b[0m\u001b[0;34m\u001b[0m\u001b[0;34m\u001b[0m\u001b[0m\n\u001b[1;32m      3\u001b[0m     \u001b[0mfile\u001b[0m\u001b[0;34m.\u001b[0m\u001b[0mtruncate\u001b[0m\u001b[0;34m(\u001b[0m\u001b[0;34m)\u001b[0m\u001b[0;34m\u001b[0m\u001b[0;34m\u001b[0m\u001b[0m\n",
            "\u001b[0;31mNameError\u001b[0m: name 'csv_file' is not defined"
          ]
        }
      ]
    }
  ]
}