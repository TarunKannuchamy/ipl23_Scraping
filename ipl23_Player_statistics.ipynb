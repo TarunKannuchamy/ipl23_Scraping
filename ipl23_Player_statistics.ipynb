{
  "nbformat": 4,
  "nbformat_minor": 0,
  "metadata": {
    "colab": {
      "provenance": [],
      "authorship_tag": "ABX9TyNKqp4wT2tk20iIeYaaoenR",
      "include_colab_link": true
    },
    "kernelspec": {
      "name": "python3",
      "display_name": "Python 3"
    },
    "language_info": {
      "name": "python"
    }
  },
  "cells": [
    {
      "cell_type": "markdown",
      "metadata": {
        "id": "view-in-github",
        "colab_type": "text"
      },
      "source": [
        "<a href=\"https://colab.research.google.com/github/TarunKannuchamy/ipl23_Scraping/blob/main/ipl23_Player_statistics.ipynb\" target=\"_parent\"><img src=\"https://colab.research.google.com/assets/colab-badge.svg\" alt=\"Open In Colab\"/></a>"
      ]
    },
    {
      "cell_type": "markdown",
      "source": [
        "**Obtaining URLs**"
      ],
      "metadata": {
        "id": "MvFjcFM5J3Ef"
      }
    },
    {
      "cell_type": "code",
      "source": [
        "import requests\n",
        "from bs4 import BeautifulSoup\n",
        "\n",
        "url2 = 'https://www.espncricinfo.com/records/tournament/indian-premier-league-2023-15129?team=4343'\n",
        "response2 = requests.get(url2)\n",
        "soup = BeautifulSoup(response2.content, 'html.parser')\n",
        "unwanted1 = soup.find('div', class_=\"ReactCollapse--collapse\", style=\"height:auto;overflow:initial\")\n",
        "unwanted2 = unwanted1.find_next('div', class_=\"ReactCollapse--collapse\", style=\"height:auto;overflow:initial\")\n",
        "link_classes = unwanted2.find_next('div', class_=\"ReactCollapse--collapse\", style=\"height:auto;overflow:initial\")\n",
        "urls = []\n",
        "for link_class in link_classes:\n",
        "  a_tags = link_class.find_all('a', class_=\"ds-cursor-pointer ds-inline-flex ds-items-center ds-w-full ds-py-2 ds-text-tight-s ds-px-4 ds-bg-ui-fill ds-text-typo ds-flex ds-items-center ds-box-border hover:ds-bg-ui-fill-hover active:ds-bg-ui-fill-primary active:ds-text-raw-white focus:ds-border focus:ds-border-ui-stroke-primary focus:ds-outline-none\")\n",
        "  links = [f\"https://www.espncricinfo.com{link.get('href')}\" for link in a_tags if 'href' in link.attrs]\n",
        "  urls.extend(links)\n"
      ],
      "metadata": {
        "colab": {
          "base_uri": "https://localhost:8080/"
        },
        "id": "GcnOrcdkssqG",
        "outputId": "18509299-c552-481c-9fa2-57cfeaf57826"
      },
      "execution_count": null,
      "outputs": [
        {
          "output_type": "stream",
          "name": "stdout",
          "text": [
            "10\n"
          ]
        }
      ]
    },
    {
      "cell_type": "code",
      "execution_count": null,
      "metadata": {
        "colab": {
          "base_uri": "https://localhost:8080/"
        },
        "id": "JawigGsQ7-jc",
        "outputId": "3dac4f90-2115-4426-e0d9-c05942f9e537"
      },
      "outputs": [
        {
          "output_type": "stream",
          "name": "stdout",
          "text": [
            "Team - 1 - data saved successfully\n",
            "Team - 2 - data saved successfully\n",
            "Team - 3 - data saved successfully\n",
            "Team - 4 - data saved successfully\n",
            "Team - 5 - data saved successfully\n",
            "Team - 6 - data saved successfully\n",
            "Team - 7 - data saved successfully\n",
            "Team - 8 - data saved successfully\n",
            "Team - 9 - data saved successfully\n",
            "Team - 10 - data saved successfully\n"
          ]
        }
      ],
      "source": [
        "import re\n",
        "import pandas as pd\n",
        "import requests\n",
        "from bs4 import BeautifulSoup\n",
        "# url = \"https://www.espncricinfo.com/records/tournament/averages-batting-bowling-by-team/indian-premier-league-2023-15129?team=4343\"\n",
        "count = 1\n",
        "for url in urls:\n",
        "  response = requests.get(url)\n",
        "  soup = BeautifulSoup(response.content, 'html.parser')\n",
        "\n",
        "  #Player Statistics\n",
        "  values = soup.find_all(\"td\", class_=\"ds-min-w-max ds-text-right\")\n",
        "  batting_stats = []\n",
        "  bowling_stats = []\n",
        "  index = 0\n",
        "  for i,value in enumerate(values):\n",
        "    if value.text == \"2023-2023\":\n",
        "      index = i\n",
        "      break\n",
        "    else:\n",
        "      batting_stats.append(value.text)\n",
        "  batting_stats = batting_stats[13:-16]\n",
        "\n",
        "  for value in values[index:]:\n",
        "    bowling_stats.append(value.text)\n",
        "\n",
        "  batting_matches = batting_stats[0::13]\n",
        "  batting_innings = batting_stats[1::13]\n",
        "  batting_not_outs = batting_stats[2::13]\n",
        "  batting_runs = batting_stats[3::13]\n",
        "  batting_balls_faced = batting_stats[4::13]\n",
        "  batting_highest_score = batting_stats[5::13]\n",
        "  batting_average = batting_stats[6::13]\n",
        "  batting_strike_rate = batting_stats[7::13]\n",
        "  batting_centuries = batting_stats[8::13]\n",
        "  batting_fifties = batting_stats[9::13]\n",
        "  batting_ducks = batting_stats[10::13]\n",
        "  batting_fours = batting_stats[11::13]\n",
        "  batting_sixes = batting_stats[12::13]\n",
        "\n",
        "  bowling_span= bowling_stats[0::16]\n",
        "  bowling_matches = bowling_stats[1::16]\n",
        "  bowling_innings = bowling_stats[2::16]\n",
        "  bowling_overs = bowling_stats[3::16]\n",
        "  bowling_maidens = bowling_stats[4::16]\n",
        "  bowling_runs = bowling_stats[5::16]\n",
        "  bowling_wickets= bowling_stats[6::16]\n",
        "  bowling_best = bowling_stats[7::16]\n",
        "  bowling_average = bowling_stats[9::16]\n",
        "  bowling_economy = bowling_stats[10::16]\n",
        "  bowling_strike_rate = bowling_stats[11::16]\n",
        "  bowling_five_wickets = bowling_stats[12::16]\n",
        "  bowling_ten_wickets = bowling_stats[13::16]\n",
        "  bowling_catches = bowling_stats[14::16]\n",
        "  bowling_stumpings= bowling_stats[15::16]\n",
        "\n",
        "  #Team Name\n",
        "  team_name_html = soup.find(\"div\", class_=\"ds-text-title-xs ds-font-bold\")\n",
        "  team_name = re.sub(r\" bat.*\", \"\", team_name_html.text)\n",
        "  team_name_list = []\n",
        "  n = int(len(bowling_stats)/16)\n",
        "  for i in range(n):\n",
        "    team_name_list.append(team_name)\n",
        "  team_name_list\n",
        "\n",
        "  #Player Name\n",
        "  player_name_html = soup.find_all(\"span\", class_=\"ds-text-tight-s ds-font-regular ds-text-typo-primary hover:ds-text-typo-primary-hover ds-block\")\n",
        "  bowler_name = []\n",
        "  batter_name = []\n",
        "  for i in player_name_html[:n]:\n",
        "    batter_name.append(i.text)\n",
        "  for i in player_name_html[n:]:\n",
        "    bowler_name.append(i.text)\n",
        "\n",
        "  #Appending to batting DataFrame\n",
        "  df_batting = pd.DataFrame(zip(team_name_list, batter_name, batting_matches, batting_innings,\n",
        "                                batting_not_outs, batting_runs, batting_balls_faced, batting_highest_score,\n",
        "                                batting_average, batting_strike_rate,  batting_centuries, batting_fifties,\n",
        "                                batting_ducks, batting_fours, batting_sixes),\n",
        "                            columns = ['Team Name', 'Batter Name', 'Matches', 'Innings', \"Not Outs\",\n",
        "                                      'Runs', 'Balls Faced', 'Highest Score', 'Average', 'Strike Rate',\n",
        "                                      '100s', '50s', '0s', '4s', '6s'])\n",
        "\n",
        "  #Appending to bowling DataFrame\n",
        "  df_bowling = pd.DataFrame(zip(team_name_list, bowler_name, bowling_span, bowling_matches, bowling_innings, bowling_overs, bowling_maidens,\n",
        "                                bowling_runs, bowling_wickets, bowling_best, bowling_average, bowling_economy, bowling_strike_rate,\n",
        "                                bowling_five_wickets, bowling_ten_wickets, bowling_catches, bowling_stumpings),\n",
        "                            columns = ['team_name_list', 'bowler_name', 'span', 'matches', 'innings', 'overs', 'maidens',\n",
        "                                'runs', 'wickets', 'best', 'average', 'economy', 'strike_rate', 'five_wickets', 'ten_wickets',\n",
        "                                'catches', 'stumpings'])\n",
        "\n",
        "  #Writinf to CSVs\n",
        "  csv_batting_file = 'ipl23_player_batting_stats.csv'\n",
        "  csv_bowling_file = 'ipl23_player_bowling_stats.csv'\n",
        "  df_batting.to_csv(csv_batting_file, mode='a', header=False, index=False)\n",
        "  df_bowling.to_csv(csv_bowling_file, mode='a', header=False, index=False)\n",
        "  print(f\"Team - {count} - data saved successfully\")\n",
        "  count+=1"
      ]
    }
  ]
}