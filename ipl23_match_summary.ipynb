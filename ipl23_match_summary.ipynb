{
  "nbformat": 4,
  "nbformat_minor": 0,
  "metadata": {
    "colab": {
      "provenance": [],
      "authorship_tag": "ABX9TyM0vYFH9J9kcsmFunjVaTop",
      "include_colab_link": true
    },
    "kernelspec": {
      "name": "python3",
      "display_name": "Python 3"
    },
    "language_info": {
      "name": "python"
    }
  },
  "cells": [
    {
      "cell_type": "markdown",
      "metadata": {
        "id": "view-in-github",
        "colab_type": "text"
      },
      "source": [
        "<a href=\"https://colab.research.google.com/github/TarunKannuchamy/ipl23_Scraping/blob/main/ipl23_match_summary.ipynb\" target=\"_parent\"><img src=\"https://colab.research.google.com/assets/colab-badge.svg\" alt=\"Open In Colab\"/></a>"
      ]
    },
    {
      "cell_type": "markdown",
      "source": [
        "Obtain URLs\n"
      ],
      "metadata": {
        "id": "vlCLRUmFJJtc"
      }
    },
    {
      "cell_type": "code",
      "source": [
        " import requests\n",
        "from bs4 import BeautifulSoup\n",
        "\n",
        "url2 = 'https://www.espncricinfo.com/series/indian-premier-league-2023-1345038/match-schedule-fixtures-and-results'\n",
        "response2 = requests.get(url2)\n",
        "soup = BeautifulSoup(response2.content, 'html.parser')\n",
        "link_classes = soup.find_all('div', class_='ds-grow ds-px-4 ds-border-r ds-border-line-default-translucent')\n",
        "urls = []\n",
        "for link_class in link_classes:\n",
        "  a_tags = link_class.find_all('a', class_=\"ds-no-tap-higlight\")\n",
        "  links = [f\"https://www.espncricinfo.com{link.get('href')}\" for link in a_tags if 'href' in link.attrs]\n",
        "  urls.extend(links)\n",
        "\n",
        "print(urls)\n"
      ],
      "metadata": {
        "colab": {
          "base_uri": "https://localhost:8080/"
        },
        "id": "N-jpuK_i0Cmt",
        "outputId": "fb92e30b-e9ef-47c3-ec69-eb5313bbdb2e"
      },
      "execution_count": null,
      "outputs": [
        {
          "output_type": "stream",
          "name": "stdout",
          "text": [
            "['https://www.espncricinfo.com/series/indian-premier-league-2023-1345038/gujarat-titans-vs-chennai-super-kings-1st-match-1359475/full-scorecard', 'https://www.espncricinfo.com/series/indian-premier-league-2023-1345038/punjab-kings-vs-kolkata-knight-riders-2nd-match-1359476/full-scorecard', 'https://www.espncricinfo.com/series/indian-premier-league-2023-1345038/lucknow-super-giants-vs-delhi-capitals-3rd-match-1359477/full-scorecard', 'https://www.espncricinfo.com/series/indian-premier-league-2023-1345038/sunrisers-hyderabad-vs-rajasthan-royals-4th-match-1359478/full-scorecard', 'https://www.espncricinfo.com/series/indian-premier-league-2023-1345038/royal-challengers-bangalore-vs-mumbai-indians-5th-match-1359479/full-scorecard', 'https://www.espncricinfo.com/series/indian-premier-league-2023-1345038/chennai-super-kings-vs-lucknow-super-giants-6th-match-1359480/full-scorecard', 'https://www.espncricinfo.com/series/indian-premier-league-2023-1345038/delhi-capitals-vs-gujarat-titans-7th-match-1359481/full-scorecard', 'https://www.espncricinfo.com/series/indian-premier-league-2023-1345038/rajasthan-royals-vs-punjab-kings-8th-match-1359482/full-scorecard', 'https://www.espncricinfo.com/series/indian-premier-league-2023-1345038/kolkata-knight-riders-vs-royal-challengers-bangalore-9th-match-1359483/full-scorecard', 'https://www.espncricinfo.com/series/indian-premier-league-2023-1345038/lucknow-super-giants-vs-sunrisers-hyderabad-10th-match-1359484/full-scorecard', 'https://www.espncricinfo.com/series/indian-premier-league-2023-1345038/rajasthan-royals-vs-delhi-capitals-11th-match-1359485/full-scorecard', 'https://www.espncricinfo.com/series/indian-premier-league-2023-1345038/mumbai-indians-vs-chennai-super-kings-12th-match-1359486/full-scorecard', 'https://www.espncricinfo.com/series/indian-premier-league-2023-1345038/gujarat-titans-vs-kolkata-knight-riders-13th-match-1359487/full-scorecard', 'https://www.espncricinfo.com/series/indian-premier-league-2023-1345038/sunrisers-hyderabad-vs-punjab-kings-14th-match-1359488/full-scorecard', 'https://www.espncricinfo.com/series/indian-premier-league-2023-1345038/royal-challengers-bangalore-vs-lucknow-super-giants-15th-match-1359489/full-scorecard', 'https://www.espncricinfo.com/series/indian-premier-league-2023-1345038/delhi-capitals-vs-mumbai-indians-16th-match-1359490/full-scorecard', 'https://www.espncricinfo.com/series/indian-premier-league-2023-1345038/chennai-super-kings-vs-rajasthan-royals-17th-match-1359491/full-scorecard', 'https://www.espncricinfo.com/series/indian-premier-league-2023-1345038/punjab-kings-vs-gujarat-titans-18th-match-1359492/full-scorecard', 'https://www.espncricinfo.com/series/indian-premier-league-2023-1345038/kolkata-knight-riders-vs-sunrisers-hyderabad-19th-match-1359493/full-scorecard', 'https://www.espncricinfo.com/series/indian-premier-league-2023-1345038/royal-challengers-bangalore-vs-delhi-capitals-20th-match-1359494/full-scorecard', 'https://www.espncricinfo.com/series/indian-premier-league-2023-1345038/lucknow-super-giants-vs-punjab-kings-21st-match-1359495/full-scorecard', 'https://www.espncricinfo.com/series/indian-premier-league-2023-1345038/mumbai-indians-vs-kolkata-knight-riders-22nd-match-1359496/full-scorecard', 'https://www.espncricinfo.com/series/indian-premier-league-2023-1345038/gujarat-titans-vs-rajasthan-royals-23rd-match-1359497/full-scorecard', 'https://www.espncricinfo.com/series/indian-premier-league-2023-1345038/royal-challengers-bangalore-vs-chennai-super-kings-24th-match-1359498/full-scorecard', 'https://www.espncricinfo.com/series/indian-premier-league-2023-1345038/sunrisers-hyderabad-vs-mumbai-indians-25th-match-1359499/full-scorecard', 'https://www.espncricinfo.com/series/indian-premier-league-2023-1345038/rajasthan-royals-vs-lucknow-super-giants-26th-match-1359500/full-scorecard', 'https://www.espncricinfo.com/series/indian-premier-league-2023-1345038/punjab-kings-vs-royal-challengers-bangalore-27th-match-1359501/full-scorecard', 'https://www.espncricinfo.com/series/indian-premier-league-2023-1345038/delhi-capitals-vs-kolkata-knight-riders-28th-match-1359502/full-scorecard', 'https://www.espncricinfo.com/series/indian-premier-league-2023-1345038/chennai-super-kings-vs-sunrisers-hyderabad-29th-match-1359503/full-scorecard', 'https://www.espncricinfo.com/series/indian-premier-league-2023-1345038/lucknow-super-giants-vs-gujarat-titans-30th-match-1359504/full-scorecard', 'https://www.espncricinfo.com/series/indian-premier-league-2023-1345038/mumbai-indians-vs-punjab-kings-31st-match-1359505/full-scorecard', 'https://www.espncricinfo.com/series/indian-premier-league-2023-1345038/royal-challengers-bangalore-vs-rajasthan-royals-32nd-match-1359506/full-scorecard', 'https://www.espncricinfo.com/series/indian-premier-league-2023-1345038/kolkata-knight-riders-vs-chennai-super-kings-33rd-match-1359507/full-scorecard', 'https://www.espncricinfo.com/series/indian-premier-league-2023-1345038/sunrisers-hyderabad-vs-delhi-capitals-34th-match-1359508/full-scorecard', 'https://www.espncricinfo.com/series/indian-premier-league-2023-1345038/gujarat-titans-vs-mumbai-indians-35th-match-1359509/full-scorecard', 'https://www.espncricinfo.com/series/indian-premier-league-2023-1345038/royal-challengers-bangalore-vs-kolkata-knight-riders-36th-match-1359510/full-scorecard', 'https://www.espncricinfo.com/series/indian-premier-league-2023-1345038/rajasthan-royals-vs-chennai-super-kings-37th-match-1359511/full-scorecard', 'https://www.espncricinfo.com/series/indian-premier-league-2023-1345038/punjab-kings-vs-lucknow-super-giants-38th-match-1359512/full-scorecard', 'https://www.espncricinfo.com/series/indian-premier-league-2023-1345038/kolkata-knight-riders-vs-gujarat-titans-39th-match-1359513/full-scorecard', 'https://www.espncricinfo.com/series/indian-premier-league-2023-1345038/delhi-capitals-vs-sunrisers-hyderabad-40th-match-1359514/full-scorecard', 'https://www.espncricinfo.com/series/indian-premier-league-2023-1345038/chennai-super-kings-vs-punjab-kings-41st-match-1359515/full-scorecard', 'https://www.espncricinfo.com/series/indian-premier-league-2023-1345038/mumbai-indians-vs-rajasthan-royals-42nd-match-1359516/full-scorecard', 'https://www.espncricinfo.com/series/indian-premier-league-2023-1345038/lucknow-super-giants-vs-royal-challengers-bangalore-43rd-match-1359517/full-scorecard', 'https://www.espncricinfo.com/series/indian-premier-league-2023-1345038/gujarat-titans-vs-delhi-capitals-44th-match-1359518/full-scorecard', 'https://www.espncricinfo.com/series/indian-premier-league-2023-1345038/lucknow-super-giants-vs-chennai-super-kings-45th-match-1359519/full-scorecard', 'https://www.espncricinfo.com/series/indian-premier-league-2023-1345038/punjab-kings-vs-mumbai-indians-46th-match-1359520/full-scorecard', 'https://www.espncricinfo.com/series/indian-premier-league-2023-1345038/sunrisers-hyderabad-vs-kolkata-knight-riders-47th-match-1359521/full-scorecard', 'https://www.espncricinfo.com/series/indian-premier-league-2023-1345038/rajasthan-royals-vs-gujarat-titans-48th-match-1359522/full-scorecard', 'https://www.espncricinfo.com/series/indian-premier-league-2023-1345038/chennai-super-kings-vs-mumbai-indians-49th-match-1359523/full-scorecard', 'https://www.espncricinfo.com/series/indian-premier-league-2023-1345038/delhi-capitals-vs-royal-challengers-bangalore-50th-match-1359524/full-scorecard', 'https://www.espncricinfo.com/series/indian-premier-league-2023-1345038/gujarat-titans-vs-lucknow-super-giants-51st-match-1359525/full-scorecard', 'https://www.espncricinfo.com/series/indian-premier-league-2023-1345038/rajasthan-royals-vs-sunrisers-hyderabad-52nd-match-1359526/full-scorecard', 'https://www.espncricinfo.com/series/indian-premier-league-2023-1345038/kolkata-knight-riders-vs-punjab-kings-53rd-match-1359527/full-scorecard', 'https://www.espncricinfo.com/series/indian-premier-league-2023-1345038/mumbai-indians-vs-royal-challengers-bangalore-54th-match-1359528/full-scorecard', 'https://www.espncricinfo.com/series/indian-premier-league-2023-1345038/chennai-super-kings-vs-delhi-capitals-55th-match-1359529/full-scorecard', 'https://www.espncricinfo.com/series/indian-premier-league-2023-1345038/kolkata-knight-riders-vs-rajasthan-royals-56th-match-1359530/full-scorecard', 'https://www.espncricinfo.com/series/indian-premier-league-2023-1345038/mumbai-indians-vs-gujarat-titans-57th-match-1359531/full-scorecard', 'https://www.espncricinfo.com/series/indian-premier-league-2023-1345038/sunrisers-hyderabad-vs-lucknow-super-giants-58th-match-1359532/full-scorecard', 'https://www.espncricinfo.com/series/indian-premier-league-2023-1345038/delhi-capitals-vs-punjab-kings-59th-match-1359533/full-scorecard', 'https://www.espncricinfo.com/series/indian-premier-league-2023-1345038/rajasthan-royals-vs-royal-challengers-bangalore-60th-match-1359534/full-scorecard', 'https://www.espncricinfo.com/series/indian-premier-league-2023-1345038/chennai-super-kings-vs-kolkata-knight-riders-61st-match-1359535/full-scorecard', 'https://www.espncricinfo.com/series/indian-premier-league-2023-1345038/gujarat-titans-vs-sunrisers-hyderabad-62nd-match-1359536/full-scorecard', 'https://www.espncricinfo.com/series/indian-premier-league-2023-1345038/lucknow-super-giants-vs-mumbai-indians-63rd-match-1359537/full-scorecard', 'https://www.espncricinfo.com/series/indian-premier-league-2023-1345038/punjab-kings-vs-delhi-capitals-64th-match-1359538/full-scorecard', 'https://www.espncricinfo.com/series/indian-premier-league-2023-1345038/sunrisers-hyderabad-vs-royal-challengers-bangalore-65th-match-1359539/full-scorecard', 'https://www.espncricinfo.com/series/indian-premier-league-2023-1345038/punjab-kings-vs-rajasthan-royals-66th-match-1359540/full-scorecard', 'https://www.espncricinfo.com/series/indian-premier-league-2023-1345038/delhi-capitals-vs-chennai-super-kings-67th-match-1359541/full-scorecard', 'https://www.espncricinfo.com/series/indian-premier-league-2023-1345038/kolkata-knight-riders-vs-lucknow-super-giants-68th-match-1359542/full-scorecard', 'https://www.espncricinfo.com/series/indian-premier-league-2023-1345038/mumbai-indians-vs-sunrisers-hyderabad-69th-match-1359543/full-scorecard', 'https://www.espncricinfo.com/series/indian-premier-league-2023-1345038/royal-challengers-bangalore-vs-gujarat-titans-70th-match-1359544/full-scorecard', 'https://www.espncricinfo.com/series/indian-premier-league-2023-1345038/chennai-super-kings-vs-gujarat-titans-qualifier-1-1370350/full-scorecard', 'https://www.espncricinfo.com/series/indian-premier-league-2023-1345038/lucknow-super-giants-vs-mumbai-indians-eliminator-1370351/full-scorecard', 'https://www.espncricinfo.com/series/indian-premier-league-2023-1345038/gujarat-titans-vs-mumbai-indians-qualifier-2-1370352/full-scorecard', 'https://www.espncricinfo.com/series/indian-premier-league-2023-1345038/gujarat-titans-vs-chennai-super-kings-final-1370353/full-scorecard']\n"
          ]
        }
      ]
    },
    {
      "cell_type": "code",
      "execution_count": null,
      "metadata": {
        "colab": {
          "base_uri": "https://localhost:8080/"
        },
        "id": "CIUB_fqnHyDS",
        "outputId": "99bc78db-6aa0-4662-ddb9-efcfe60933ff"
      },
      "outputs": [
        {
          "output_type": "stream",
          "name": "stdout",
          "text": [
            "Match - 1 - Data added successfully\n",
            "Match - 2 - Data added successfully\n",
            "Match - 3 - Data added successfully\n",
            "Match - 4 - Data added successfully\n",
            "Match - 5 - Data added successfully\n",
            "Match - 6 - Data added successfully\n",
            "Match - 7 - Data added successfully\n",
            "Match - 8 - Data added successfully\n",
            "Match - 9 - Data added successfully\n",
            "Match - 10 - Data added successfully\n",
            "Match - 11 - Data added successfully\n",
            "Match - 12 - Data added successfully\n",
            "Match - 13 - Data added successfully\n",
            "Match - 14 - Data added successfully\n",
            "Match - 15 - Data added successfully\n",
            "Match - 16 - Data added successfully\n",
            "Match - 17 - Data added successfully\n",
            "Match - 18 - Data added successfully\n",
            "Match - 19 - Data added successfully\n",
            "Match - 20 - Data added successfully\n",
            "Match - 21 - Data added successfully\n",
            "Match - 22 - Data added successfully\n",
            "Match - 23 - Data added successfully\n",
            "Match - 24 - Data added successfully\n",
            "Match - 25 - Data added successfully\n",
            "Match - 26 - Data added successfully\n",
            "Match - 27 - Data added successfully\n",
            "Match - 28 - Data added successfully\n",
            "Match - 29 - Data added successfully\n",
            "Match - 30 - Data added successfully\n",
            "Match - 31 - Data added successfully\n",
            "Match - 32 - Data added successfully\n",
            "Match - 33 - Data added successfully\n",
            "Match - 34 - Data added successfully\n",
            "Match - 35 - Data added successfully\n",
            "Match - 36 - Data added successfully\n",
            "Match - 37 - Data added successfully\n",
            "Match - 38 - Data added successfully\n",
            "Match - 39 - Data added successfully\n",
            "Match - 40 - Data added successfully\n",
            "Match - 41 - Data added successfully\n",
            "Match - 42 - Data added successfully\n",
            "Match - 43 - Data added successfully\n",
            "Match - 44 - Data added successfully\n",
            " Match number 45 was suspended \n",
            " url: https://www.espncricinfo.com/series/indian-premier-league-2023-1345038/lucknow-super-giants-vs-chennai-super-kings-45th-match-1359519/full-scorecard ,\n",
            "Match - 45 - Data added successfully\n",
            "Match - 46 - Data added successfully\n",
            "Match - 47 - Data added successfully\n",
            "Match - 48 - Data added successfully\n",
            "Match - 49 - Data added successfully\n",
            "Match - 50 - Data added successfully\n",
            "Match - 51 - Data added successfully\n",
            "Match - 52 - Data added successfully\n",
            "Match - 53 - Data added successfully\n",
            "Match - 54 - Data added successfully\n",
            "Match - 55 - Data added successfully\n",
            "Match - 56 - Data added successfully\n",
            "Match - 57 - Data added successfully\n",
            "Match - 58 - Data added successfully\n",
            "Match - 59 - Data added successfully\n",
            "Match - 60 - Data added successfully\n",
            "Match - 61 - Data added successfully\n",
            "Match - 62 - Data added successfully\n",
            "Match - 63 - Data added successfully\n",
            "Match - 64 - Data added successfully\n",
            "Match - 65 - Data added successfully\n",
            "Match - 66 - Data added successfully\n",
            "Match - 67 - Data added successfully\n",
            "Match - 68 - Data added successfully\n",
            "Match - 69 - Data added successfully\n",
            "Match - 70 - Data added successfully\n",
            "Match - 71 - Data added successfully\n",
            "Match - 72 - Data added successfully\n",
            "Match - 73 - Data added successfully\n"
          ]
        }
      ],
      "source": [
        "import re\n",
        "import pandas as pd\n",
        "import requests\n",
        "from bs4 import BeautifulSoup\n",
        "# url = \"https://www.espncricinfo.com/series/indian-premier-league-2023-1345038/sunrisers-hyderabad-vs-mumbai-indians-25th-match-1359499/full-scorecard\"\n",
        "count = 1\n",
        "for url in urls:\n",
        "  response = requests.get(url)\n",
        "  soup = BeautifulSoup(response.content, 'html.parser')\n",
        "\n",
        "  match_id = re.sub(r\".*?match-\", \"\", url)\n",
        "  if match_id == url:\n",
        "    match_id = re.sub(r\".*?-137\", \"137\", url)\n",
        "  match_id = re.sub(r\"/f.*\", \"\", match_id)\n",
        "\n",
        "  team2_name = soup.find('span', class_=\"ds-text-title-xs ds-font-bold ds-capitalize\")\n",
        "  team1_name = team2_name.find_next('span', class_=\"ds-text-title-xs ds-font-bold ds-capitalize\")\n",
        "\n",
        "  names_dict = {'Titans': 'Gujarat Titans',\n",
        "                'Punjab Kings': 'Punjab Kings',\n",
        "                'Super Giants': 'Lucknow Super Giants',\n",
        "                'Royals': 'Rajastan Royals',\n",
        "                'RCB': 'Royal Challengers Bangalore',\n",
        "                'Super Kings': 'Chennai Super Kings',\n",
        "                'KKR': 'Kolkata Knight Riders',\n",
        "                'Sunrisers': 'Sunrisers Hyderabad',\n",
        "                'Mumbai': 'Mumbai Indians',\n",
        "                'Capitals': 'Delhi Capitals',}\n",
        "\n",
        "  line_html = soup.find('p', class_=\"ds-text-tight-m ds-font-regular ds-truncate ds-text-typo\")\n",
        "  line = line_html.text\n",
        "\n",
        "  try:\n",
        "    winner = re.sub(r\" won.*\", \"\", line)\n",
        "    winner = names_dict[winner]\n",
        "    margin = re.sub(r\".*?by \", \"\", line)\n",
        "    margin = re.sub(r\" \\(.*\", \"\", margin)\n",
        "  except KeyError:\n",
        "    print(f\" Match number {count} was suspended \\n url: {url} ,\")\n",
        "    continue\n",
        "  comments = re.sub(r\".*?\\(\",\"\", line)\n",
        "  comments = re.sub(r\"\\).*\", \"\", comments)\n",
        "  if \"(\" not in line and \")\" not in line:\n",
        "    comments = \"---\"\n",
        "\n",
        "  details = soup.find(\"div\", class_=\"ds-text-tight-m ds-font-regular ds-text-typo-mid3\")\n",
        "  details_parts =  details.text.split(\",\")\n",
        "  venue = details_parts[1]\n",
        "  date = details_parts[2] + details_parts[3]\n",
        "\n",
        "  new_row = {\n",
        "    \"Match ID\": [match_id],\n",
        "      \"Team 1 name\": team1_name.text,\n",
        "      \"Team 2 Name\": team2_name.text,\n",
        "      \"Winner\": [winner],\n",
        "      \"Margin\": [margin],\n",
        "      \"comments\": [comments],\n",
        "      \"venue\": [venue],\n",
        "      \"date\": [date]\n",
        "  }\n",
        "\n",
        "\n",
        "  df = pd.DataFrame(new_row)\n",
        "\n",
        "  csv_file = 'ipl23_match_summary.csv'\n",
        "  df.to_csv(csv_file, mode='a', header=False, index=False)\n",
        "  print(f\"Match - {count} - Data added successfully\")\n",
        "  count +=1\n"
      ]
    }
  ]
}